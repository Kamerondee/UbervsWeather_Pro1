{
 "cells": [
  {
   "cell_type": "code",
   "execution_count": 1,
   "id": "862685e9-16c5-4023-a32e-3acb4f1058cb",
   "metadata": {},
   "outputs": [],
   "source": [
    "# Dependencies and Setup\n",
    "import os\n",
    "import pandas as pd\n",
    "import matplotlib.pyplot as plt\n",
    "import scipy.stats as st\n",
    "\n",
    "# Read in your csv files\n",
    "uber_raw = pd.read_csv('Resources/uber-raw-data-janjune-15.csv')\n",
    "weather_jan = pd.read_csv('Resources/weather_rawjan.csv')\n",
    "weather_feb = pd.read_csv('Resources/weather_rawfeb.csv')\n",
    "weather_march = pd.read_csv('Resources/weather_rawmarch.csv')\n",
    "weather_april = pd.read_csv('Resources/weather_rawapril.csv')\n",
    "weather_may = pd.read_csv('Resources/weather_rawmay.csv')\n",
    "weather_june = pd.read_csv('Resources/weather_rawjune.csv')"
   ]
  },
  {
   "cell_type": "code",
   "execution_count": 2,
   "id": "72f13d71-b5f0-45a6-84e9-72772f78e297",
   "metadata": {},
   "outputs": [
    {
     "data": {
      "text/html": [
       "<div>\n",
       "<style scoped>\n",
       "    .dataframe tbody tr th:only-of-type {\n",
       "        vertical-align: middle;\n",
       "    }\n",
       "\n",
       "    .dataframe tbody tr th {\n",
       "        vertical-align: top;\n",
       "    }\n",
       "\n",
       "    .dataframe thead th {\n",
       "        text-align: right;\n",
       "    }\n",
       "</style>\n",
       "<table border=\"1\" class=\"dataframe\">\n",
       "  <thead>\n",
       "    <tr style=\"text-align: right;\">\n",
       "      <th></th>\n",
       "      <th>Dispatching_base_num</th>\n",
       "      <th>Pickup_date</th>\n",
       "      <th>Affiliated_base_num</th>\n",
       "      <th>locationID</th>\n",
       "    </tr>\n",
       "  </thead>\n",
       "  <tbody>\n",
       "    <tr>\n",
       "      <th>0</th>\n",
       "      <td>B02617</td>\n",
       "      <td>2015-05-17 09:47:00</td>\n",
       "      <td>B02617</td>\n",
       "      <td>141</td>\n",
       "    </tr>\n",
       "    <tr>\n",
       "      <th>1</th>\n",
       "      <td>B02617</td>\n",
       "      <td>2015-05-17 09:47:00</td>\n",
       "      <td>B02617</td>\n",
       "      <td>65</td>\n",
       "    </tr>\n",
       "    <tr>\n",
       "      <th>2</th>\n",
       "      <td>B02617</td>\n",
       "      <td>2015-05-17 09:47:00</td>\n",
       "      <td>B02617</td>\n",
       "      <td>100</td>\n",
       "    </tr>\n",
       "    <tr>\n",
       "      <th>3</th>\n",
       "      <td>B02617</td>\n",
       "      <td>2015-05-17 09:47:00</td>\n",
       "      <td>B02774</td>\n",
       "      <td>80</td>\n",
       "    </tr>\n",
       "    <tr>\n",
       "      <th>4</th>\n",
       "      <td>B02617</td>\n",
       "      <td>2015-05-17 09:47:00</td>\n",
       "      <td>B02617</td>\n",
       "      <td>90</td>\n",
       "    </tr>\n",
       "  </tbody>\n",
       "</table>\n",
       "</div>"
      ],
      "text/plain": [
       "  Dispatching_base_num          Pickup_date Affiliated_base_num  locationID\n",
       "0               B02617  2015-05-17 09:47:00              B02617         141\n",
       "1               B02617  2015-05-17 09:47:00              B02617          65\n",
       "2               B02617  2015-05-17 09:47:00              B02617         100\n",
       "3               B02617  2015-05-17 09:47:00              B02774          80\n",
       "4               B02617  2015-05-17 09:47:00              B02617          90"
      ]
     },
     "execution_count": 2,
     "metadata": {},
     "output_type": "execute_result"
    }
   ],
   "source": [
    "# Print .head()\n",
    "uber_raw.head()"
   ]
  },
  {
   "cell_type": "code",
   "execution_count": 5,
   "id": "90bc009c-bb66-46c7-8d16-2e6a7e2c29bf",
   "metadata": {},
   "outputs": [
    {
     "data": {
      "text/html": [
       "<div>\n",
       "<style scoped>\n",
       "    .dataframe tbody tr th:only-of-type {\n",
       "        vertical-align: middle;\n",
       "    }\n",
       "\n",
       "    .dataframe tbody tr th {\n",
       "        vertical-align: top;\n",
       "    }\n",
       "\n",
       "    .dataframe thead th {\n",
       "        text-align: right;\n",
       "    }\n",
       "</style>\n",
       "<table border=\"1\" class=\"dataframe\">\n",
       "  <thead>\n",
       "    <tr style=\"text-align: right;\">\n",
       "      <th></th>\n",
       "      <th>Dispatching_base_num</th>\n",
       "      <th>Pickup_date</th>\n",
       "      <th>Affiliated_base_num</th>\n",
       "      <th>locationID</th>\n",
       "      <th>Date</th>\n",
       "      <th>Time</th>\n",
       "    </tr>\n",
       "  </thead>\n",
       "  <tbody>\n",
       "    <tr>\n",
       "      <th>0</th>\n",
       "      <td>B02617</td>\n",
       "      <td>2015-05-17 09:47:00</td>\n",
       "      <td>B02617</td>\n",
       "      <td>141</td>\n",
       "      <td>2015-05-17</td>\n",
       "      <td>09:47:00</td>\n",
       "    </tr>\n",
       "    <tr>\n",
       "      <th>1</th>\n",
       "      <td>B02617</td>\n",
       "      <td>2015-05-17 09:47:00</td>\n",
       "      <td>B02617</td>\n",
       "      <td>65</td>\n",
       "      <td>2015-05-17</td>\n",
       "      <td>09:47:00</td>\n",
       "    </tr>\n",
       "    <tr>\n",
       "      <th>2</th>\n",
       "      <td>B02617</td>\n",
       "      <td>2015-05-17 09:47:00</td>\n",
       "      <td>B02617</td>\n",
       "      <td>100</td>\n",
       "      <td>2015-05-17</td>\n",
       "      <td>09:47:00</td>\n",
       "    </tr>\n",
       "    <tr>\n",
       "      <th>3</th>\n",
       "      <td>B02617</td>\n",
       "      <td>2015-05-17 09:47:00</td>\n",
       "      <td>B02774</td>\n",
       "      <td>80</td>\n",
       "      <td>2015-05-17</td>\n",
       "      <td>09:47:00</td>\n",
       "    </tr>\n",
       "    <tr>\n",
       "      <th>4</th>\n",
       "      <td>B02617</td>\n",
       "      <td>2015-05-17 09:47:00</td>\n",
       "      <td>B02617</td>\n",
       "      <td>90</td>\n",
       "      <td>2015-05-17</td>\n",
       "      <td>09:47:00</td>\n",
       "    </tr>\n",
       "  </tbody>\n",
       "</table>\n",
       "</div>"
      ],
      "text/plain": [
       "  Dispatching_base_num          Pickup_date Affiliated_base_num  locationID  \\\n",
       "0               B02617  2015-05-17 09:47:00              B02617         141   \n",
       "1               B02617  2015-05-17 09:47:00              B02617          65   \n",
       "2               B02617  2015-05-17 09:47:00              B02617         100   \n",
       "3               B02617  2015-05-17 09:47:00              B02774          80   \n",
       "4               B02617  2015-05-17 09:47:00              B02617          90   \n",
       "\n",
       "         Date      Time  \n",
       "0  2015-05-17  09:47:00  \n",
       "1  2015-05-17  09:47:00  \n",
       "2  2015-05-17  09:47:00  \n",
       "3  2015-05-17  09:47:00  \n",
       "4  2015-05-17  09:47:00  "
      ]
     },
     "execution_count": 5,
     "metadata": {},
     "output_type": "execute_result"
    }
   ],
   "source": [
    "# Split column \"Pickup_date\" so it'll be easier to merge\n",
    "uber_raw = pd.read_csv('Resources/uber-raw-data-janjune-15.csv')\n",
    "\n",
    "uber_raw['Date'] = pd.to_datetime(uber_raw['Pickup_date']).dt.date\n",
    "uber_raw['Time'] = pd.to_datetime(uber_raw['Pickup_date']).dt.time\n",
    "\n",
    "uber_raw.head()"
   ]
  },
  {
   "cell_type": "code",
   "execution_count": 4,
   "id": "d35e05b5-b47a-4f37-9aa9-66530738e34c",
   "metadata": {},
   "outputs": [
    {
     "data": {
      "text/plain": [
       "2744783"
      ]
     },
     "execution_count": 4,
     "metadata": {},
     "output_type": "execute_result"
    }
   ],
   "source": [
    "# Get total number of Ubers from January - June 2015\n",
    "total_ubers = len(uber_raw[\"Pickup_date\"].unique())\n",
    "total_ubers"
   ]
  },
  {
   "cell_type": "code",
   "execution_count": null,
   "id": "12900698-df5c-4f4f-a1f0-26b26f003240",
   "metadata": {},
   "outputs": [],
   "source": [
    "# Create sub-category by days (.append - will create a new column in the new df table)"
   ]
  },
  {
   "cell_type": "code",
   "execution_count": null,
   "id": "0a616542-4814-4eef-9f1d-8fc94ffa854a",
   "metadata": {},
   "outputs": [],
   "source": [
    "# Get a total sum of all columns by days\n",
    "# Will be easier to incorporate Weather API if totaled by days"
   ]
  },
  {
   "cell_type": "code",
   "execution_count": null,
   "id": "607e4b45-c9a5-49ef-bd40-61dfb16c230f",
   "metadata": {},
   "outputs": [],
   "source": [
    "# Create first graph"
   ]
  },
  {
   "cell_type": "code",
   "execution_count": null,
   "id": "14f8223e-61e4-450f-b940-62572ff95423",
   "metadata": {},
   "outputs": [],
   "source": [
    "# Figure out corresponding dates with data set"
   ]
  },
  {
   "cell_type": "code",
   "execution_count": null,
   "id": "2d7cf017-599e-429f-b9c0-cd329452af11",
   "metadata": {},
   "outputs": [],
   "source": [
    "# Merge data set with UBER_RAW_DATA"
   ]
  },
  {
   "cell_type": "code",
   "execution_count": null,
   "id": "f60f9e90-7515-4c3d-8067-7f02cc33d3ba",
   "metadata": {},
   "outputs": [],
   "source": [
    "# Create new data tables to hold along with new variables (rain/sunshine/snow/etc)"
   ]
  },
  {
   "cell_type": "code",
   "execution_count": null,
   "id": "cd636729-03d7-4890-acc5-1802ebf29545",
   "metadata": {},
   "outputs": [],
   "source": [
    "# Create new graphs that correlates days vs weather"
   ]
  }
 ],
 "metadata": {
  "kernelspec": {
   "display_name": "Python 3 (ipykernel)",
   "language": "python",
   "name": "python3"
  },
  "language_info": {
   "codemirror_mode": {
    "name": "ipython",
    "version": 3
   },
   "file_extension": ".py",
   "mimetype": "text/x-python",
   "name": "python",
   "nbconvert_exporter": "python",
   "pygments_lexer": "ipython3",
   "version": "3.9.7"
  }
 },
 "nbformat": 4,
 "nbformat_minor": 5
}
