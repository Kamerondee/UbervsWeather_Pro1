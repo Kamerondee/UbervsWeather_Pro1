{
 "cells": [
  {
   "cell_type": "code",
   "execution_count": 41,
   "id": "c330f773-a776-4112-b636-12f8b9cb9cd9",
   "metadata": {},
   "outputs": [],
   "source": [
    "# Dependencies and Setup\n",
    "import os\n",
    "import pandas as pd\n",
    "import matplotlib.pyplot as plt\n",
    "import scipy.stats as st\n",
    "import datetime\n",
    "\n",
    "# Read in your csv files\n",
    "# Datasets from https://www.kaggle.com/datasets/fivethirtyeight/uber-pickups-in-new-york-city?select=uber-raw-data-janjune-15.csv\n",
    "uber_apr = pd.read_csv(\"Resources/uber-raw-data-apr14.csv\")\n",
    "uber_aug = pd.read_csv(\"Resources/uber-raw-data-aug14.csv\")\n",
    "uber_jul = pd.read_csv(\"Resources/uber-raw-data-jul14.csv\")\n",
    "uber_jun = pd.read_csv(\"Resources/uber-raw-data-jun14.csv\")\n",
    "uber_may = pd.read_csv(\"Resources/uber-raw-data-may14.csv\")\n",
    "uber_sep = pd.read_csv(\"Resources/uber-raw-data-sep14.csv\")"
   ]
  },
  {
   "cell_type": "code",
   "execution_count": 42,
   "id": "359ed41b-f391-4775-ad7f-ee6fa5a684f9",
   "metadata": {},
   "outputs": [
    {
     "data": {
      "text/html": [
       "<div>\n",
       "<style scoped>\n",
       "    .dataframe tbody tr th:only-of-type {\n",
       "        vertical-align: middle;\n",
       "    }\n",
       "\n",
       "    .dataframe tbody tr th {\n",
       "        vertical-align: top;\n",
       "    }\n",
       "\n",
       "    .dataframe thead th {\n",
       "        text-align: right;\n",
       "    }\n",
       "</style>\n",
       "<table border=\"1\" class=\"dataframe\">\n",
       "  <thead>\n",
       "    <tr style=\"text-align: right;\">\n",
       "      <th></th>\n",
       "      <th>Date/Time</th>\n",
       "      <th>Lat</th>\n",
       "      <th>Lon</th>\n",
       "      <th>Base</th>\n",
       "    </tr>\n",
       "  </thead>\n",
       "  <tbody>\n",
       "    <tr>\n",
       "      <th>0</th>\n",
       "      <td>4/1/2014 0:11:00</td>\n",
       "      <td>40.7690</td>\n",
       "      <td>-73.9549</td>\n",
       "      <td>B02512</td>\n",
       "    </tr>\n",
       "    <tr>\n",
       "      <th>1</th>\n",
       "      <td>4/1/2014 0:17:00</td>\n",
       "      <td>40.7267</td>\n",
       "      <td>-74.0345</td>\n",
       "      <td>B02512</td>\n",
       "    </tr>\n",
       "    <tr>\n",
       "      <th>2</th>\n",
       "      <td>4/1/2014 0:21:00</td>\n",
       "      <td>40.7316</td>\n",
       "      <td>-73.9873</td>\n",
       "      <td>B02512</td>\n",
       "    </tr>\n",
       "    <tr>\n",
       "      <th>3</th>\n",
       "      <td>4/1/2014 0:28:00</td>\n",
       "      <td>40.7588</td>\n",
       "      <td>-73.9776</td>\n",
       "      <td>B02512</td>\n",
       "    </tr>\n",
       "    <tr>\n",
       "      <th>4</th>\n",
       "      <td>4/1/2014 0:33:00</td>\n",
       "      <td>40.7594</td>\n",
       "      <td>-73.9722</td>\n",
       "      <td>B02512</td>\n",
       "    </tr>\n",
       "  </tbody>\n",
       "</table>\n",
       "</div>"
      ],
      "text/plain": [
       "          Date/Time      Lat      Lon    Base\n",
       "0  4/1/2014 0:11:00  40.7690 -73.9549  B02512\n",
       "1  4/1/2014 0:17:00  40.7267 -74.0345  B02512\n",
       "2  4/1/2014 0:21:00  40.7316 -73.9873  B02512\n",
       "3  4/1/2014 0:28:00  40.7588 -73.9776  B02512\n",
       "4  4/1/2014 0:33:00  40.7594 -73.9722  B02512"
      ]
     },
     "execution_count": 42,
     "metadata": {},
     "output_type": "execute_result"
    }
   ],
   "source": [
    "# Print .head()\n",
    "uber_apr.head()"
   ]
  },
  {
   "cell_type": "code",
   "execution_count": 43,
   "id": "85351da0-f5f2-4d98-957e-ca315d029346",
   "metadata": {},
   "outputs": [
    {
     "name": "stdout",
     "output_type": "stream",
     "text": [
      "<class 'pandas.core.frame.DataFrame'>\n",
      "RangeIndex: 564516 entries, 0 to 564515\n",
      "Data columns (total 4 columns):\n",
      " #   Column     Non-Null Count   Dtype  \n",
      "---  ------     --------------   -----  \n",
      " 0   Date/Time  564516 non-null  object \n",
      " 1   Lat        564516 non-null  float64\n",
      " 2   Lon        564516 non-null  float64\n",
      " 3   Base       564516 non-null  object \n",
      "dtypes: float64(2), object(2)\n",
      "memory usage: 17.2+ MB\n"
     ]
    }
   ],
   "source": [
    "# Check to see if there are any 'null' values and check data types\n",
    "uber_apr.info()"
   ]
  },
  {
   "cell_type": "code",
   "execution_count": 44,
   "id": "01569f2e-bae6-4a3a-a585-d96b83c84623",
   "metadata": {},
   "outputs": [
    {
     "data": {
      "text/html": [
       "<div>\n",
       "<style scoped>\n",
       "    .dataframe tbody tr th:only-of-type {\n",
       "        vertical-align: middle;\n",
       "    }\n",
       "\n",
       "    .dataframe tbody tr th {\n",
       "        vertical-align: top;\n",
       "    }\n",
       "\n",
       "    .dataframe thead th {\n",
       "        text-align: right;\n",
       "    }\n",
       "</style>\n",
       "<table border=\"1\" class=\"dataframe\">\n",
       "  <thead>\n",
       "    <tr style=\"text-align: right;\">\n",
       "      <th></th>\n",
       "      <th>Date</th>\n",
       "      <th>Lat</th>\n",
       "      <th>Lon</th>\n",
       "      <th>Base</th>\n",
       "      <th>Month</th>\n",
       "      <th>Day</th>\n",
       "      <th>Hour</th>\n",
       "    </tr>\n",
       "  </thead>\n",
       "  <tbody>\n",
       "    <tr>\n",
       "      <th>0</th>\n",
       "      <td>2014-04-01 00:11:00</td>\n",
       "      <td>40.7690</td>\n",
       "      <td>-73.9549</td>\n",
       "      <td>B02512</td>\n",
       "      <td>Apr</td>\n",
       "      <td>Tue</td>\n",
       "      <td>0</td>\n",
       "    </tr>\n",
       "    <tr>\n",
       "      <th>1</th>\n",
       "      <td>2014-04-01 00:17:00</td>\n",
       "      <td>40.7267</td>\n",
       "      <td>-74.0345</td>\n",
       "      <td>B02512</td>\n",
       "      <td>Apr</td>\n",
       "      <td>Tue</td>\n",
       "      <td>0</td>\n",
       "    </tr>\n",
       "    <tr>\n",
       "      <th>2</th>\n",
       "      <td>2014-04-01 00:21:00</td>\n",
       "      <td>40.7316</td>\n",
       "      <td>-73.9873</td>\n",
       "      <td>B02512</td>\n",
       "      <td>Apr</td>\n",
       "      <td>Tue</td>\n",
       "      <td>0</td>\n",
       "    </tr>\n",
       "    <tr>\n",
       "      <th>3</th>\n",
       "      <td>2014-04-01 00:28:00</td>\n",
       "      <td>40.7588</td>\n",
       "      <td>-73.9776</td>\n",
       "      <td>B02512</td>\n",
       "      <td>Apr</td>\n",
       "      <td>Tue</td>\n",
       "      <td>0</td>\n",
       "    </tr>\n",
       "    <tr>\n",
       "      <th>4</th>\n",
       "      <td>2014-04-01 00:33:00</td>\n",
       "      <td>40.7594</td>\n",
       "      <td>-73.9722</td>\n",
       "      <td>B02512</td>\n",
       "      <td>Apr</td>\n",
       "      <td>Tue</td>\n",
       "      <td>0</td>\n",
       "    </tr>\n",
       "  </tbody>\n",
       "</table>\n",
       "</div>"
      ],
      "text/plain": [
       "                 Date      Lat      Lon    Base Month  Day  Hour\n",
       "0 2014-04-01 00:11:00  40.7690 -73.9549  B02512   Apr  Tue     0\n",
       "1 2014-04-01 00:17:00  40.7267 -74.0345  B02512   Apr  Tue     0\n",
       "2 2014-04-01 00:21:00  40.7316 -73.9873  B02512   Apr  Tue     0\n",
       "3 2014-04-01 00:28:00  40.7588 -73.9776  B02512   Apr  Tue     0\n",
       "4 2014-04-01 00:33:00  40.7594 -73.9722  B02512   Apr  Tue     0"
      ]
     },
     "execution_count": 44,
     "metadata": {},
     "output_type": "execute_result"
    }
   ],
   "source": [
    "# Renaming the date column\n",
    "uber_apr.rename({'Date/Time':'Date'}, axis=1, inplace=True)\n",
    "\n",
    "uber_apr['Date'] = pd.to_datetime(uber_apr['Date'])\n",
    "\n",
    "# Create new columns to hold different time variables\n",
    "uber_apr['Month'] = uber_apr['Date'].dt.month_name().str[:3] \n",
    "\n",
    "uber_apr['Day'] = uber_apr['Date'].dt.day_name().str[:3]\n",
    "\n",
    "uber_apr['Hour'] = uber_apr['Date'].dt.hour\n",
    "\n",
    "uber_apr.head()"
   ]
  },
  {
   "cell_type": "code",
   "execution_count": 45,
   "id": "dbe8aff3-06de-4a08-aec4-be3dd4418550",
   "metadata": {},
   "outputs": [],
   "source": [
    "# Create a new column to store this new binned column with 15 minute intervals\n",
    "uber_apr['BinnedHour'] = uber_apr['Date'].dt.floor('15min')"
   ]
  },
  {
   "cell_type": "code",
   "execution_count": 46,
   "id": "dfdbb757-6391-4721-9926-3250efcf5f4b",
   "metadata": {
    "tags": []
   },
   "outputs": [
    {
     "data": {
      "text/plain": [
       "0        2014-04-01 00:00:00\n",
       "1        2014-04-01 00:15:00\n",
       "2        2014-04-01 00:15:00\n",
       "3        2014-04-01 00:15:00\n",
       "4        2014-04-01 00:30:00\n",
       "                 ...        \n",
       "564511   2014-04-30 23:15:00\n",
       "564512   2014-04-30 23:15:00\n",
       "564513   2014-04-30 23:30:00\n",
       "564514   2014-04-30 23:30:00\n",
       "564515   2014-04-30 23:45:00\n",
       "Name: BinnedHour, Length: 564516, dtype: datetime64[ns]"
      ]
     },
     "execution_count": 46,
     "metadata": {},
     "output_type": "execute_result"
    }
   ],
   "source": [
    "# Print the new column\n",
    "uber_apr['BinnedHour']"
   ]
  },
  {
   "cell_type": "code",
   "execution_count": 47,
   "id": "7e1c2db9-f2c7-48fd-90dd-7e7bc0dd82fb",
   "metadata": {},
   "outputs": [
    {
     "data": {
      "image/png": "[encoded data removed]",
      "text/plain": [
       "<Figure size 1080x360 with 1 Axes>"
      ]
     },
     "metadata": {
      "needs_background": "light"
     },
     "output_type": "display_data"
    }
   ],
   "source": [
    "# Plot total April Uber rides by 'Days'\n",
    "plt.figure(figsize=(15,5))\n",
    "\n",
    "uber_apr['BinnedHour'].dt.day.value_counts().sort_index().plot(kind='bar',color='blue')\n",
    "\n",
    "for item in plt.gca().get_xticklabels():\n",
    "    \n",
    "    item.set_rotation(45)\n",
    "\n",
    "    plt.title('Uber Rides through April 2014')\n",
    "\n",
    "    plt.xlabel('Days')\n",
    "\n",
    "    plt.ylabel('Rides')"
   ]
  },
  {
   "cell_type": "code",
   "execution_count": 48,
   "id": "02b6b3de-ca38-44b6-a15d-f88447c9f35d",
   "metadata": {},
   "outputs": [
    {
     "data": {
      "text/html": [
       "<div>\n",
       "<style scoped>\n",
       "    .dataframe tbody tr th:only-of-type {\n",
       "        vertical-align: middle;\n",
       "    }\n",
       "\n",
       "    .dataframe tbody tr th {\n",
       "        vertical-align: top;\n",
       "    }\n",
       "\n",
       "    .dataframe thead th {\n",
       "        text-align: right;\n",
       "    }\n",
       "</style>\n",
       "<table border=\"1\" class=\"dataframe\">\n",
       "  <thead>\n",
       "    <tr style=\"text-align: right;\">\n",
       "      <th></th>\n",
       "      <th>Date/Time</th>\n",
       "      <th>Lat</th>\n",
       "      <th>Lon</th>\n",
       "      <th>Base</th>\n",
       "    </tr>\n",
       "  </thead>\n",
       "  <tbody>\n",
       "    <tr>\n",
       "      <th>0</th>\n",
       "      <td>5/1/2014 0:02:00</td>\n",
       "      <td>40.7521</td>\n",
       "      <td>-73.9914</td>\n",
       "      <td>B02512</td>\n",
       "    </tr>\n",
       "    <tr>\n",
       "      <th>1</th>\n",
       "      <td>5/1/2014 0:06:00</td>\n",
       "      <td>40.6965</td>\n",
       "      <td>-73.9715</td>\n",
       "      <td>B02512</td>\n",
       "    </tr>\n",
       "    <tr>\n",
       "      <th>2</th>\n",
       "      <td>5/1/2014 0:15:00</td>\n",
       "      <td>40.7464</td>\n",
       "      <td>-73.9838</td>\n",
       "      <td>B02512</td>\n",
       "    </tr>\n",
       "    <tr>\n",
       "      <th>3</th>\n",
       "      <td>5/1/2014 0:17:00</td>\n",
       "      <td>40.7463</td>\n",
       "      <td>-74.0011</td>\n",
       "      <td>B02512</td>\n",
       "    </tr>\n",
       "    <tr>\n",
       "      <th>4</th>\n",
       "      <td>5/1/2014 0:17:00</td>\n",
       "      <td>40.7594</td>\n",
       "      <td>-73.9734</td>\n",
       "      <td>B02512</td>\n",
       "    </tr>\n",
       "  </tbody>\n",
       "</table>\n",
       "</div>"
      ],
      "text/plain": [
       "          Date/Time      Lat      Lon    Base\n",
       "0  5/1/2014 0:02:00  40.7521 -73.9914  B02512\n",
       "1  5/1/2014 0:06:00  40.6965 -73.9715  B02512\n",
       "2  5/1/2014 0:15:00  40.7464 -73.9838  B02512\n",
       "3  5/1/2014 0:17:00  40.7463 -74.0011  B02512\n",
       "4  5/1/2014 0:17:00  40.7594 -73.9734  B02512"
      ]
     },
     "execution_count": 48,
     "metadata": {},
     "output_type": "execute_result"
    }
   ],
   "source": [
    "# Print May .head()\n",
    "uber_may.head()"
   ]
  },
  {
   "cell_type": "code",
   "execution_count": 49,
   "id": "350e98cc-9853-44c8-a8d9-ef772078aaa2",
   "metadata": {},
   "outputs": [
    {
     "name": "stdout",
     "output_type": "stream",
     "text": [
      "<class 'pandas.core.frame.DataFrame'>\n",
      "RangeIndex: 652435 entries, 0 to 652434\n",
      "Data columns (total 4 columns):\n",
      " #   Column     Non-Null Count   Dtype  \n",
      "---  ------     --------------   -----  \n",
      " 0   Date/Time  652435 non-null  object \n",
      " 1   Lat        652435 non-null  float64\n",
      " 2   Lon        652435 non-null  float64\n",
      " 3   Base       652435 non-null  object \n",
      "dtypes: float64(2), object(2)\n",
      "memory usage: 19.9+ MB\n"
     ]
    }
   ],
   "source": [
    "# Check to see if there are any 'null' values and check data types\n",
    "uber_may.info()"
   ]
  },
  {
   "cell_type": "code",
   "execution_count": 50,
   "id": "1bef3b14-99e1-4e96-8b68-00cc9098de02",
   "metadata": {},
   "outputs": [
    {
     "data": {
      "text/html": [
       "<div>\n",
       "<style scoped>\n",
       "    .dataframe tbody tr th:only-of-type {\n",
       "        vertical-align: middle;\n",
       "    }\n",
       "\n",
       "    .dataframe tbody tr th {\n",
       "        vertical-align: top;\n",
       "    }\n",
       "\n",
       "    .dataframe thead th {\n",
       "        text-align: right;\n",
       "    }\n",
       "</style>\n",
       "<table border=\"1\" class=\"dataframe\">\n",
       "  <thead>\n",
       "    <tr style=\"text-align: right;\">\n",
       "      <th></th>\n",
       "      <th>Date</th>\n",
       "      <th>Lat</th>\n",
       "      <th>Lon</th>\n",
       "      <th>Base</th>\n",
       "      <th>Month</th>\n",
       "      <th>Day</th>\n",
       "      <th>Hour</th>\n",
       "    </tr>\n",
       "  </thead>\n",
       "  <tbody>\n",
       "    <tr>\n",
       "      <th>0</th>\n",
       "      <td>2014-05-01 00:02:00</td>\n",
       "      <td>40.7521</td>\n",
       "      <td>-73.9914</td>\n",
       "      <td>B02512</td>\n",
       "      <td>May</td>\n",
       "      <td>Thu</td>\n",
       "      <td>0</td>\n",
       "    </tr>\n",
       "    <tr>\n",
       "      <th>1</th>\n",
       "      <td>2014-05-01 00:06:00</td>\n",
       "      <td>40.6965</td>\n",
       "      <td>-73.9715</td>\n",
       "      <td>B02512</td>\n",
       "      <td>May</td>\n",
       "      <td>Thu</td>\n",
       "      <td>0</td>\n",
       "    </tr>\n",
       "    <tr>\n",
       "      <th>2</th>\n",
       "      <td>2014-05-01 00:15:00</td>\n",
       "      <td>40.7464</td>\n",
       "      <td>-73.9838</td>\n",
       "      <td>B02512</td>\n",
       "      <td>May</td>\n",
       "      <td>Thu</td>\n",
       "      <td>0</td>\n",
       "    </tr>\n",
       "    <tr>\n",
       "      <th>3</th>\n",
       "      <td>2014-05-01 00:17:00</td>\n",
       "      <td>40.7463</td>\n",
       "      <td>-74.0011</td>\n",
       "      <td>B02512</td>\n",
       "      <td>May</td>\n",
       "      <td>Thu</td>\n",
       "      <td>0</td>\n",
       "    </tr>\n",
       "    <tr>\n",
       "      <th>4</th>\n",
       "      <td>2014-05-01 00:17:00</td>\n",
       "      <td>40.7594</td>\n",
       "      <td>-73.9734</td>\n",
       "      <td>B02512</td>\n",
       "      <td>May</td>\n",
       "      <td>Thu</td>\n",
       "      <td>0</td>\n",
       "    </tr>\n",
       "  </tbody>\n",
       "</table>\n",
       "</div>"
      ],
      "text/plain": [
       "                 Date      Lat      Lon    Base Month  Day  Hour\n",
       "0 2014-05-01 00:02:00  40.7521 -73.9914  B02512   May  Thu     0\n",
       "1 2014-05-01 00:06:00  40.6965 -73.9715  B02512   May  Thu     0\n",
       "2 2014-05-01 00:15:00  40.7464 -73.9838  B02512   May  Thu     0\n",
       "3 2014-05-01 00:17:00  40.7463 -74.0011  B02512   May  Thu     0\n",
       "4 2014-05-01 00:17:00  40.7594 -73.9734  B02512   May  Thu     0"
      ]
     },
     "execution_count": 50,
     "metadata": {},
     "output_type": "execute_result"
    }
   ],
   "source": [
    "# Renaming the date column\n",
    "uber_may.rename({'Date/Time':'Date'}, axis=1, inplace=True)\n",
    "\n",
    "uber_may['Date'] = pd.to_datetime(uber_may['Date'])\n",
    "\n",
    "# Create new columns to hold different time variables\n",
    "uber_may['Month'] = uber_may['Date'].dt.month_name().str[:3] \n",
    "\n",
    "uber_may['Day'] = uber_may['Date'].dt.day_name().str[:3]\n",
    "\n",
    "uber_may['Hour'] = uber_may['Date'].dt.hour\n",
    "\n",
    "uber_may.head()"
   ]
  },
  {
   "cell_type": "code",
   "execution_count": 51,
   "id": "bc29475b-661b-4f3f-8ca8-cd0a57ea2ce1",
   "metadata": {},
   "outputs": [],
   "source": [
    "# Create a new column to store this new binned column with 15 minute intervals\n",
    "uber_may['BinnedHour'] = uber_may['Date'].dt.floor('15min')"
   ]
  },
  {
   "cell_type": "code",
   "execution_count": 52,
   "id": "17ecad71-3e71-4bbb-ac91-23505fec6e6b",
   "metadata": {},
   "outputs": [
    {
     "data": {
      "text/plain": [
       "0        2014-05-01 00:00:00\n",
       "1        2014-05-01 00:00:00\n",
       "2        2014-05-01 00:15:00\n",
       "3        2014-05-01 00:15:00\n",
       "4        2014-05-01 00:15:00\n",
       "                 ...        \n",
       "652430   2014-05-31 23:45:00\n",
       "652431   2014-05-31 23:45:00\n",
       "652432   2014-05-31 23:45:00\n",
       "652433   2014-05-31 23:45:00\n",
       "652434   2014-05-31 23:45:00\n",
       "Name: BinnedHour, Length: 652435, dtype: datetime64[ns]"
      ]
     },
     "execution_count": 52,
     "metadata": {},
     "output_type": "execute_result"
    }
   ],
   "source": [
    "# Print the new column\n",
    "uber_may['BinnedHour']"
   ]
  },
  {
   "cell_type": "code",
   "execution_count": 53,
   "id": "b3593ead-fcd3-4bc8-b43b-f5f22ceeafb0",
   "metadata": {},
   "outputs": [
    {
     "data": {
      "image/png": "[encoded data removed]",
      "text/plain": [
       "<Figure size 1080x360 with 1 Axes>"
      ]
     },
     "metadata": {
      "needs_background": "light"
     },
     "output_type": "display_data"
    }
   ],
   "source": [
    "# Plot total May Uber rides by 'Days'\n",
    "plt.figure(figsize=(15,5))\n",
    "\n",
    "uber_may['BinnedHour'].dt.day.value_counts().sort_index().plot(kind='bar',color='purple')\n",
    "\n",
    "for item in plt.gca().get_xticklabels():\n",
    "    \n",
    "    item.set_rotation(45)\n",
    "\n",
    "    plt.title('Uber Rides through May 2014')\n",
    "\n",
    "    plt.xlabel('Days')\n",
    "\n",
    "    plt.ylabel('Rides')"
   ]
  },
  {
   "cell_type": "code",
   "execution_count": 54,
   "id": "2052ad41-c3b5-408b-a0c1-a6ba085fa463",
   "metadata": {},
   "outputs": [
    {
     "data": {
      "text/html": [
       "<div>\n",
       "<style scoped>\n",
       "    .dataframe tbody tr th:only-of-type {\n",
       "        vertical-align: middle;\n",
       "    }\n",
       "\n",
       "    .dataframe tbody tr th {\n",
       "        vertical-align: top;\n",
       "    }\n",
       "\n",
       "    .dataframe thead th {\n",
       "        text-align: right;\n",
       "    }\n",
       "</style>\n",
       "<table border=\"1\" class=\"dataframe\">\n",
       "  <thead>\n",
       "    <tr style=\"text-align: right;\">\n",
       "      <th></th>\n",
       "      <th>Date/Time</th>\n",
       "      <th>Lat</th>\n",
       "      <th>Lon</th>\n",
       "      <th>Base</th>\n",
       "    </tr>\n",
       "  </thead>\n",
       "  <tbody>\n",
       "    <tr>\n",
       "      <th>0</th>\n",
       "      <td>6/1/2014 0:00:00</td>\n",
       "      <td>40.7293</td>\n",
       "      <td>-73.9920</td>\n",
       "      <td>B02512</td>\n",
       "    </tr>\n",
       "    <tr>\n",
       "      <th>1</th>\n",
       "      <td>6/1/2014 0:01:00</td>\n",
       "      <td>40.7131</td>\n",
       "      <td>-74.0097</td>\n",
       "      <td>B02512</td>\n",
       "    </tr>\n",
       "    <tr>\n",
       "      <th>2</th>\n",
       "      <td>6/1/2014 0:04:00</td>\n",
       "      <td>40.3461</td>\n",
       "      <td>-74.6610</td>\n",
       "      <td>B02512</td>\n",
       "    </tr>\n",
       "    <tr>\n",
       "      <th>3</th>\n",
       "      <td>6/1/2014 0:04:00</td>\n",
       "      <td>40.7555</td>\n",
       "      <td>-73.9833</td>\n",
       "      <td>B02512</td>\n",
       "    </tr>\n",
       "    <tr>\n",
       "      <th>4</th>\n",
       "      <td>6/1/2014 0:07:00</td>\n",
       "      <td>40.6880</td>\n",
       "      <td>-74.1831</td>\n",
       "      <td>B02512</td>\n",
       "    </tr>\n",
       "  </tbody>\n",
       "</table>\n",
       "</div>"
      ],
      "text/plain": [
       "          Date/Time      Lat      Lon    Base\n",
       "0  6/1/2014 0:00:00  40.7293 -73.9920  B02512\n",
       "1  6/1/2014 0:01:00  40.7131 -74.0097  B02512\n",
       "2  6/1/2014 0:04:00  40.3461 -74.6610  B02512\n",
       "3  6/1/2014 0:04:00  40.7555 -73.9833  B02512\n",
       "4  6/1/2014 0:07:00  40.6880 -74.1831  B02512"
      ]
     },
     "execution_count": 54,
     "metadata": {},
     "output_type": "execute_result"
    }
   ],
   "source": [
    "# Print June .head()\n",
    "uber_jun.head()"
   ]
  },
  {
   "cell_type": "code",
   "execution_count": 55,
   "id": "3bed0671-d13e-42e0-884b-93add3dda941",
   "metadata": {},
   "outputs": [
    {
     "name": "stdout",
     "output_type": "stream",
     "text": [
      "<class 'pandas.core.frame.DataFrame'>\n",
      "RangeIndex: 663844 entries, 0 to 663843\n",
      "Data columns (total 4 columns):\n",
      " #   Column     Non-Null Count   Dtype  \n",
      "---  ------     --------------   -----  \n",
      " 0   Date/Time  663844 non-null  object \n",
      " 1   Lat        663844 non-null  float64\n",
      " 2   Lon        663844 non-null  float64\n",
      " 3   Base       663844 non-null  object \n",
      "dtypes: float64(2), object(2)\n",
      "memory usage: 20.3+ MB\n"
     ]
    }
   ],
   "source": [
    "# Check to see if there are any 'null' values and check data types\n",
    "uber_jun.info()"
   ]
  },
  {
   "cell_type": "code",
   "execution_count": 56,
   "id": "e76d768c-c8eb-4f36-be24-929f75a79a97",
   "metadata": {},
   "outputs": [
    {
     "data": {
      "text/html": [
       "<div>\n",
       "<style scoped>\n",
       "    .dataframe tbody tr th:only-of-type {\n",
       "        vertical-align: middle;\n",
       "    }\n",
       "\n",
       "    .dataframe tbody tr th {\n",
       "        vertical-align: top;\n",
       "    }\n",
       "\n",
       "    .dataframe thead th {\n",
       "        text-align: right;\n",
       "    }\n",
       "</style>\n",
       "<table border=\"1\" class=\"dataframe\">\n",
       "  <thead>\n",
       "    <tr style=\"text-align: right;\">\n",
       "      <th></th>\n",
       "      <th>Date</th>\n",
       "      <th>Lat</th>\n",
       "      <th>Lon</th>\n",
       "      <th>Base</th>\n",
       "      <th>Month</th>\n",
       "      <th>Day</th>\n",
       "      <th>Hour</th>\n",
       "    </tr>\n",
       "  </thead>\n",
       "  <tbody>\n",
       "    <tr>\n",
       "      <th>0</th>\n",
       "      <td>2014-06-01 00:00:00</td>\n",
       "      <td>40.7293</td>\n",
       "      <td>-73.9920</td>\n",
       "      <td>B02512</td>\n",
       "      <td>Jun</td>\n",
       "      <td>Sun</td>\n",
       "      <td>0</td>\n",
       "    </tr>\n",
       "    <tr>\n",
       "      <th>1</th>\n",
       "      <td>2014-06-01 00:01:00</td>\n",
       "      <td>40.7131</td>\n",
       "      <td>-74.0097</td>\n",
       "      <td>B02512</td>\n",
       "      <td>Jun</td>\n",
       "      <td>Sun</td>\n",
       "      <td>0</td>\n",
       "    </tr>\n",
       "    <tr>\n",
       "      <th>2</th>\n",
       "      <td>2014-06-01 00:04:00</td>\n",
       "      <td>40.3461</td>\n",
       "      <td>-74.6610</td>\n",
       "      <td>B02512</td>\n",
       "      <td>Jun</td>\n",
       "      <td>Sun</td>\n",
       "      <td>0</td>\n",
       "    </tr>\n",
       "    <tr>\n",
       "      <th>3</th>\n",
       "      <td>2014-06-01 00:04:00</td>\n",
       "      <td>40.7555</td>\n",
       "      <td>-73.9833</td>\n",
       "      <td>B02512</td>\n",
       "      <td>Jun</td>\n",
       "      <td>Sun</td>\n",
       "      <td>0</td>\n",
       "    </tr>\n",
       "    <tr>\n",
       "      <th>4</th>\n",
       "      <td>2014-06-01 00:07:00</td>\n",
       "      <td>40.6880</td>\n",
       "      <td>-74.1831</td>\n",
       "      <td>B02512</td>\n",
       "      <td>Jun</td>\n",
       "      <td>Sun</td>\n",
       "      <td>0</td>\n",
       "    </tr>\n",
       "  </tbody>\n",
       "</table>\n",
       "</div>"
      ],
      "text/plain": [
       "                 Date      Lat      Lon    Base Month  Day  Hour\n",
       "0 2014-06-01 00:00:00  40.7293 -73.9920  B02512   Jun  Sun     0\n",
       "1 2014-06-01 00:01:00  40.7131 -74.0097  B02512   Jun  Sun     0\n",
       "2 2014-06-01 00:04:00  40.3461 -74.6610  B02512   Jun  Sun     0\n",
       "3 2014-06-01 00:04:00  40.7555 -73.9833  B02512   Jun  Sun     0\n",
       "4 2014-06-01 00:07:00  40.6880 -74.1831  B02512   Jun  Sun     0"
      ]
     },
     "execution_count": 56,
     "metadata": {},
     "output_type": "execute_result"
    }
   ],
   "source": [
    "# Renaming the date column\n",
    "uber_jun.rename({'Date/Time':'Date'}, axis=1, inplace=True)\n",
    "\n",
    "uber_jun['Date'] = pd.to_datetime(uber_jun['Date'])\n",
    "\n",
    "# Create new columns to hold different time variables\n",
    "uber_jun['Month'] = uber_jun['Date'].dt.month_name().str[:3] \n",
    "\n",
    "uber_jun['Day'] = uber_jun['Date'].dt.day_name().str[:3]\n",
    "\n",
    "uber_jun['Hour'] = uber_jun['Date'].dt.hour\n",
    "\n",
    "uber_jun.head()"
   ]
  },
  {
   "cell_type": "code",
   "execution_count": 57,
   "id": "c72a2d92-f8f6-405c-a1e4-de3e33873381",
   "metadata": {},
   "outputs": [],
   "source": [
    "# Create a new column to store this new binned column with 15 minute intervals\n",
    "uber_jun['BinnedHour'] = uber_jun['Date'].dt.floor('15min')"
   ]
  },
  {
   "cell_type": "code",
   "execution_count": 58,
   "id": "0933c8d4-6054-4857-99a0-d9d3852c62c2",
   "metadata": {},
   "outputs": [
    {
     "data": {
      "text/plain": [
       "0        2014-06-01 00:00:00\n",
       "1        2014-06-01 00:00:00\n",
       "2        2014-06-01 00:00:00\n",
       "3        2014-06-01 00:00:00\n",
       "4        2014-06-01 00:00:00\n",
       "                 ...        \n",
       "663839   2014-06-30 22:30:00\n",
       "663840   2014-06-30 23:00:00\n",
       "663841   2014-06-30 23:00:00\n",
       "663842   2014-06-30 23:15:00\n",
       "663843   2014-06-30 23:30:00\n",
       "Name: BinnedHour, Length: 663844, dtype: datetime64[ns]"
      ]
     },
     "execution_count": 58,
     "metadata": {},
     "output_type": "execute_result"
    }
   ],
   "source": [
    "# Print the new column\n",
    "uber_jun['BinnedHour']"
   ]
  },
  {
   "cell_type": "code",
   "execution_count": 59,
   "id": "c106b953-06da-4904-ba09-54bbb3b08336",
   "metadata": {},
   "outputs": [
    {
     "data": {
      "image/png": "[encoded data removed]",
      "text/plain": [
       "<Figure size 1080x360 with 1 Axes>"
      ]
     },
     "metadata": {
      "needs_background": "light"
     },
     "output_type": "display_data"
    }
   ],
   "source": [
    "# Plot total May Uber rides by 'Days'\n",
    "plt.figure(figsize=(15,5))\n",
    "\n",
    "uber_jun['BinnedHour'].dt.day.value_counts().sort_index().plot(kind='bar',color='green')\n",
    "\n",
    "for item in plt.gca().get_xticklabels():\n",
    "    \n",
    "    item.set_rotation(45)\n",
    "\n",
    "    plt.title('Uber Rides through June 2014')\n",
    "\n",
    "    plt.xlabel('Days')\n",
    "\n",
    "    plt.ylabel('Rides')"
   ]
  },
  {
   "cell_type": "code",
   "execution_count": 60,
   "id": "28029074-6eed-47a6-9791-cb74dcce734a",
   "metadata": {},
   "outputs": [
    {
     "data": {
      "text/html": [
       "<div>\n",
       "<style scoped>\n",
       "    .dataframe tbody tr th:only-of-type {\n",
       "        vertical-align: middle;\n",
       "    }\n",
       "\n",
       "    .dataframe tbody tr th {\n",
       "        vertical-align: top;\n",
       "    }\n",
       "\n",
       "    .dataframe thead th {\n",
       "        text-align: right;\n",
       "    }\n",
       "</style>\n",
       "<table border=\"1\" class=\"dataframe\">\n",
       "  <thead>\n",
       "    <tr style=\"text-align: right;\">\n",
       "      <th></th>\n",
       "      <th>Date/Time</th>\n",
       "      <th>Lat</th>\n",
       "      <th>Lon</th>\n",
       "      <th>Base</th>\n",
       "    </tr>\n",
       "  </thead>\n",
       "  <tbody>\n",
       "    <tr>\n",
       "      <th>0</th>\n",
       "      <td>7/1/2014 0:03:00</td>\n",
       "      <td>40.7586</td>\n",
       "      <td>-73.9706</td>\n",
       "      <td>B02512</td>\n",
       "    </tr>\n",
       "    <tr>\n",
       "      <th>1</th>\n",
       "      <td>7/1/2014 0:05:00</td>\n",
       "      <td>40.7605</td>\n",
       "      <td>-73.9994</td>\n",
       "      <td>B02512</td>\n",
       "    </tr>\n",
       "    <tr>\n",
       "      <th>2</th>\n",
       "      <td>7/1/2014 0:06:00</td>\n",
       "      <td>40.7320</td>\n",
       "      <td>-73.9999</td>\n",
       "      <td>B02512</td>\n",
       "    </tr>\n",
       "    <tr>\n",
       "      <th>3</th>\n",
       "      <td>7/1/2014 0:09:00</td>\n",
       "      <td>40.7635</td>\n",
       "      <td>-73.9793</td>\n",
       "      <td>B02512</td>\n",
       "    </tr>\n",
       "    <tr>\n",
       "      <th>4</th>\n",
       "      <td>7/1/2014 0:20:00</td>\n",
       "      <td>40.7204</td>\n",
       "      <td>-74.0047</td>\n",
       "      <td>B02512</td>\n",
       "    </tr>\n",
       "  </tbody>\n",
       "</table>\n",
       "</div>"
      ],
      "text/plain": [
       "          Date/Time      Lat      Lon    Base\n",
       "0  7/1/2014 0:03:00  40.7586 -73.9706  B02512\n",
       "1  7/1/2014 0:05:00  40.7605 -73.9994  B02512\n",
       "2  7/1/2014 0:06:00  40.7320 -73.9999  B02512\n",
       "3  7/1/2014 0:09:00  40.7635 -73.9793  B02512\n",
       "4  7/1/2014 0:20:00  40.7204 -74.0047  B02512"
      ]
     },
     "execution_count": 60,
     "metadata": {},
     "output_type": "execute_result"
    }
   ],
   "source": [
    "# Print July .head()\n",
    "uber_jul.head()"
   ]
  },
  {
   "cell_type": "code",
   "execution_count": 61,
   "id": "aad3fc03-fe70-4ce7-8fd0-ce160966274b",
   "metadata": {},
   "outputs": [
    {
     "name": "stdout",
     "output_type": "stream",
     "text": [
      "<class 'pandas.core.frame.DataFrame'>\n",
      "RangeIndex: 796121 entries, 0 to 796120\n",
      "Data columns (total 4 columns):\n",
      " #   Column     Non-Null Count   Dtype  \n",
      "---  ------     --------------   -----  \n",
      " 0   Date/Time  796121 non-null  object \n",
      " 1   Lat        796121 non-null  float64\n",
      " 2   Lon        796121 non-null  float64\n",
      " 3   Base       796121 non-null  object \n",
      "dtypes: float64(2), object(2)\n",
      "memory usage: 24.3+ MB\n"
     ]
    }
   ],
   "source": [
    "# Check to see if there are any 'null' values and check data types\n",
    "uber_jul.info()"
   ]
  },
  {
   "cell_type": "code",
   "execution_count": 62,
   "id": "0bd10ad4-cc72-4882-b423-d978c5b6f6b6",
   "metadata": {},
   "outputs": [
    {
     "data": {
      "text/html": [
       "<div>\n",
       "<style scoped>\n",
       "    .dataframe tbody tr th:only-of-type {\n",
       "        vertical-align: middle;\n",
       "    }\n",
       "\n",
       "    .dataframe tbody tr th {\n",
       "        vertical-align: top;\n",
       "    }\n",
       "\n",
       "    .dataframe thead th {\n",
       "        text-align: right;\n",
       "    }\n",
       "</style>\n",
       "<table border=\"1\" class=\"dataframe\">\n",
       "  <thead>\n",
       "    <tr style=\"text-align: right;\">\n",
       "      <th></th>\n",
       "      <th>Date</th>\n",
       "      <th>Lat</th>\n",
       "      <th>Lon</th>\n",
       "      <th>Base</th>\n",
       "      <th>Month</th>\n",
       "      <th>Day</th>\n",
       "      <th>Hour</th>\n",
       "    </tr>\n",
       "  </thead>\n",
       "  <tbody>\n",
       "    <tr>\n",
       "      <th>0</th>\n",
       "      <td>2014-07-01 00:03:00</td>\n",
       "      <td>40.7586</td>\n",
       "      <td>-73.9706</td>\n",
       "      <td>B02512</td>\n",
       "      <td>Jul</td>\n",
       "      <td>Tue</td>\n",
       "      <td>0</td>\n",
       "    </tr>\n",
       "    <tr>\n",
       "      <th>1</th>\n",
       "      <td>2014-07-01 00:05:00</td>\n",
       "      <td>40.7605</td>\n",
       "      <td>-73.9994</td>\n",
       "      <td>B02512</td>\n",
       "      <td>Jul</td>\n",
       "      <td>Tue</td>\n",
       "      <td>0</td>\n",
       "    </tr>\n",
       "    <tr>\n",
       "      <th>2</th>\n",
       "      <td>2014-07-01 00:06:00</td>\n",
       "      <td>40.7320</td>\n",
       "      <td>-73.9999</td>\n",
       "      <td>B02512</td>\n",
       "      <td>Jul</td>\n",
       "      <td>Tue</td>\n",
       "      <td>0</td>\n",
       "    </tr>\n",
       "    <tr>\n",
       "      <th>3</th>\n",
       "      <td>2014-07-01 00:09:00</td>\n",
       "      <td>40.7635</td>\n",
       "      <td>-73.9793</td>\n",
       "      <td>B02512</td>\n",
       "      <td>Jul</td>\n",
       "      <td>Tue</td>\n",
       "      <td>0</td>\n",
       "    </tr>\n",
       "    <tr>\n",
       "      <th>4</th>\n",
       "      <td>2014-07-01 00:20:00</td>\n",
       "      <td>40.7204</td>\n",
       "      <td>-74.0047</td>\n",
       "      <td>B02512</td>\n",
       "      <td>Jul</td>\n",
       "      <td>Tue</td>\n",
       "      <td>0</td>\n",
       "    </tr>\n",
       "  </tbody>\n",
       "</table>\n",
       "</div>"
      ],
      "text/plain": [
       "                 Date      Lat      Lon    Base Month  Day  Hour\n",
       "0 2014-07-01 00:03:00  40.7586 -73.9706  B02512   Jul  Tue     0\n",
       "1 2014-07-01 00:05:00  40.7605 -73.9994  B02512   Jul  Tue     0\n",
       "2 2014-07-01 00:06:00  40.7320 -73.9999  B02512   Jul  Tue     0\n",
       "3 2014-07-01 00:09:00  40.7635 -73.9793  B02512   Jul  Tue     0\n",
       "4 2014-07-01 00:20:00  40.7204 -74.0047  B02512   Jul  Tue     0"
      ]
     },
     "execution_count": 62,
     "metadata": {},
     "output_type": "execute_result"
    }
   ],
   "source": [
    "# Renaming the date column\n",
    "uber_jul.rename({'Date/Time':'Date'}, axis=1, inplace=True)\n",
    "\n",
    "uber_jul['Date'] = pd.to_datetime(uber_jul['Date'])\n",
    "\n",
    "# Create new columns to hold different time variables\n",
    "uber_jul['Month'] = uber_jul['Date'].dt.month_name().str[:3] \n",
    "\n",
    "uber_jul['Day'] = uber_jul['Date'].dt.day_name().str[:3]\n",
    "\n",
    "uber_jul['Hour'] = uber_jul['Date'].dt.hour\n",
    "\n",
    "uber_jul.head()"
   ]
  },
  {
   "cell_type": "code",
   "execution_count": 63,
   "id": "9bf5d6ed-c1a8-44cd-9fe7-0632be8e34a1",
   "metadata": {},
   "outputs": [],
   "source": [
    "# Create a new column to store this new binned column with 15 minute intervals\n",
    "uber_jul['BinnedHour'] = uber_jul['Date'].dt.floor('15min')"
   ]
  },
  {
   "cell_type": "code",
   "execution_count": 64,
   "id": "37782ec8-a869-4bbc-8425-175d0a9d6615",
   "metadata": {},
   "outputs": [
    {
     "data": {
      "text/plain": [
       "0        2014-07-01 00:00:00\n",
       "1        2014-07-01 00:00:00\n",
       "2        2014-07-01 00:00:00\n",
       "3        2014-07-01 00:00:00\n",
       "4        2014-07-01 00:15:00\n",
       "                 ...        \n",
       "796116   2014-07-31 23:15:00\n",
       "796117   2014-07-31 23:15:00\n",
       "796118   2014-07-31 23:15:00\n",
       "796119   2014-07-31 23:30:00\n",
       "796120   2014-07-31 23:45:00\n",
       "Name: BinnedHour, Length: 796121, dtype: datetime64[ns]"
      ]
     },
     "execution_count": 64,
     "metadata": {},
     "output_type": "execute_result"
    }
   ],
   "source": [
    "# Print the new column\n",
    "uber_jul['BinnedHour']"
   ]
  },
  {
   "cell_type": "code",
   "execution_count": 65,
   "id": "1fc368ff-babc-4034-9e75-c7c51fbb2712",
   "metadata": {},
   "outputs": [
    {
     "data": {
      "image/png": "[encoded data removed]",
      "text/plain": [
       "<Figure size 1080x360 with 1 Axes>"
      ]
     },
     "metadata": {
      "needs_background": "light"
     },
     "output_type": "display_data"
    }
   ],
   "source": [
    "# Plot total July Uber rides by 'Days'\n",
    "plt.figure(figsize=(15,5))\n",
    "\n",
    "uber_jul['BinnedHour'].dt.day.value_counts().sort_index().plot(kind='bar',color='pink')\n",
    "\n",
    "for item in plt.gca().get_xticklabels():\n",
    "    \n",
    "    item.set_rotation(45)\n",
    "\n",
    "    plt.title('Uber Rides through July 2014')\n",
    "\n",
    "    plt.xlabel('Days')\n",
    "\n",
    "    plt.ylabel('Rides')"
   ]
  },
  {
   "cell_type": "code",
   "execution_count": 66,
   "id": "ba16a247-81c5-4215-aa58-55016107bf51",
   "metadata": {},
   "outputs": [
    {
     "data": {
      "text/html": [
       "<div>\n",
       "<style scoped>\n",
       "    .dataframe tbody tr th:only-of-type {\n",
       "        vertical-align: middle;\n",
       "    }\n",
       "\n",
       "    .dataframe tbody tr th {\n",
       "        vertical-align: top;\n",
       "    }\n",
       "\n",
       "    .dataframe thead th {\n",
       "        text-align: right;\n",
       "    }\n",
       "</style>\n",
       "<table border=\"1\" class=\"dataframe\">\n",
       "  <thead>\n",
       "    <tr style=\"text-align: right;\">\n",
       "      <th></th>\n",
       "      <th>Date/Time</th>\n",
       "      <th>Lat</th>\n",
       "      <th>Lon</th>\n",
       "      <th>Base</th>\n",
       "    </tr>\n",
       "  </thead>\n",
       "  <tbody>\n",
       "    <tr>\n",
       "      <th>0</th>\n",
       "      <td>8/1/2014 0:03:00</td>\n",
       "      <td>40.7366</td>\n",
       "      <td>-73.9906</td>\n",
       "      <td>B02512</td>\n",
       "    </tr>\n",
       "    <tr>\n",
       "      <th>1</th>\n",
       "      <td>8/1/2014 0:09:00</td>\n",
       "      <td>40.7260</td>\n",
       "      <td>-73.9918</td>\n",
       "      <td>B02512</td>\n",
       "    </tr>\n",
       "    <tr>\n",
       "      <th>2</th>\n",
       "      <td>8/1/2014 0:12:00</td>\n",
       "      <td>40.7209</td>\n",
       "      <td>-74.0507</td>\n",
       "      <td>B02512</td>\n",
       "    </tr>\n",
       "    <tr>\n",
       "      <th>3</th>\n",
       "      <td>8/1/2014 0:12:00</td>\n",
       "      <td>40.7387</td>\n",
       "      <td>-73.9856</td>\n",
       "      <td>B02512</td>\n",
       "    </tr>\n",
       "    <tr>\n",
       "      <th>4</th>\n",
       "      <td>8/1/2014 0:12:00</td>\n",
       "      <td>40.7323</td>\n",
       "      <td>-74.0077</td>\n",
       "      <td>B02512</td>\n",
       "    </tr>\n",
       "  </tbody>\n",
       "</table>\n",
       "</div>"
      ],
      "text/plain": [
       "          Date/Time      Lat      Lon    Base\n",
       "0  8/1/2014 0:03:00  40.7366 -73.9906  B02512\n",
       "1  8/1/2014 0:09:00  40.7260 -73.9918  B02512\n",
       "2  8/1/2014 0:12:00  40.7209 -74.0507  B02512\n",
       "3  8/1/2014 0:12:00  40.7387 -73.9856  B02512\n",
       "4  8/1/2014 0:12:00  40.7323 -74.0077  B02512"
      ]
     },
     "execution_count": 66,
     "metadata": {},
     "output_type": "execute_result"
    }
   ],
   "source": [
    "# Print August .head()\n",
    "uber_aug.head()"
   ]
  },
  {
   "cell_type": "code",
   "execution_count": 67,
   "id": "7a6a7e3f-11f1-4b80-8bfb-c5bf78b3c603",
   "metadata": {},
   "outputs": [
    {
     "name": "stdout",
     "output_type": "stream",
     "text": [
      "<class 'pandas.core.frame.DataFrame'>\n",
      "RangeIndex: 829275 entries, 0 to 829274\n",
      "Data columns (total 4 columns):\n",
      " #   Column     Non-Null Count   Dtype  \n",
      "---  ------     --------------   -----  \n",
      " 0   Date/Time  829275 non-null  object \n",
      " 1   Lat        829275 non-null  float64\n",
      " 2   Lon        829275 non-null  float64\n",
      " 3   Base       829275 non-null  object \n",
      "dtypes: float64(2), object(2)\n",
      "memory usage: 25.3+ MB\n"
     ]
    }
   ],
   "source": [
    "# Check to see if there are any 'null' values and check data types\n",
    "uber_aug.info()"
   ]
  },
  {
   "cell_type": "code",
   "execution_count": 68,
   "id": "cdbdbf4c-2327-4b10-8e67-befed343bfa3",
   "metadata": {},
   "outputs": [
    {
     "data": {
      "text/html": [
       "<div>\n",
       "<style scoped>\n",
       "    .dataframe tbody tr th:only-of-type {\n",
       "        vertical-align: middle;\n",
       "    }\n",
       "\n",
       "    .dataframe tbody tr th {\n",
       "        vertical-align: top;\n",
       "    }\n",
       "\n",
       "    .dataframe thead th {\n",
       "        text-align: right;\n",
       "    }\n",
       "</style>\n",
       "<table border=\"1\" class=\"dataframe\">\n",
       "  <thead>\n",
       "    <tr style=\"text-align: right;\">\n",
       "      <th></th>\n",
       "      <th>Date</th>\n",
       "      <th>Lat</th>\n",
       "      <th>Lon</th>\n",
       "      <th>Base</th>\n",
       "      <th>Month</th>\n",
       "      <th>Day</th>\n",
       "      <th>Hour</th>\n",
       "    </tr>\n",
       "  </thead>\n",
       "  <tbody>\n",
       "    <tr>\n",
       "      <th>0</th>\n",
       "      <td>2014-08-01 00:03:00</td>\n",
       "      <td>40.7366</td>\n",
       "      <td>-73.9906</td>\n",
       "      <td>B02512</td>\n",
       "      <td>Aug</td>\n",
       "      <td>Fri</td>\n",
       "      <td>0</td>\n",
       "    </tr>\n",
       "    <tr>\n",
       "      <th>1</th>\n",
       "      <td>2014-08-01 00:09:00</td>\n",
       "      <td>40.7260</td>\n",
       "      <td>-73.9918</td>\n",
       "      <td>B02512</td>\n",
       "      <td>Aug</td>\n",
       "      <td>Fri</td>\n",
       "      <td>0</td>\n",
       "    </tr>\n",
       "    <tr>\n",
       "      <th>2</th>\n",
       "      <td>2014-08-01 00:12:00</td>\n",
       "      <td>40.7209</td>\n",
       "      <td>-74.0507</td>\n",
       "      <td>B02512</td>\n",
       "      <td>Aug</td>\n",
       "      <td>Fri</td>\n",
       "      <td>0</td>\n",
       "    </tr>\n",
       "    <tr>\n",
       "      <th>3</th>\n",
       "      <td>2014-08-01 00:12:00</td>\n",
       "      <td>40.7387</td>\n",
       "      <td>-73.9856</td>\n",
       "      <td>B02512</td>\n",
       "      <td>Aug</td>\n",
       "      <td>Fri</td>\n",
       "      <td>0</td>\n",
       "    </tr>\n",
       "    <tr>\n",
       "      <th>4</th>\n",
       "      <td>2014-08-01 00:12:00</td>\n",
       "      <td>40.7323</td>\n",
       "      <td>-74.0077</td>\n",
       "      <td>B02512</td>\n",
       "      <td>Aug</td>\n",
       "      <td>Fri</td>\n",
       "      <td>0</td>\n",
       "    </tr>\n",
       "  </tbody>\n",
       "</table>\n",
       "</div>"
      ],
      "text/plain": [
       "                 Date      Lat      Lon    Base Month  Day  Hour\n",
       "0 2014-08-01 00:03:00  40.7366 -73.9906  B02512   Aug  Fri     0\n",
       "1 2014-08-01 00:09:00  40.7260 -73.9918  B02512   Aug  Fri     0\n",
       "2 2014-08-01 00:12:00  40.7209 -74.0507  B02512   Aug  Fri     0\n",
       "3 2014-08-01 00:12:00  40.7387 -73.9856  B02512   Aug  Fri     0\n",
       "4 2014-08-01 00:12:00  40.7323 -74.0077  B02512   Aug  Fri     0"
      ]
     },
     "execution_count": 68,
     "metadata": {},
     "output_type": "execute_result"
    }
   ],
   "source": [
    "# Renaming the date column\n",
    "uber_aug.rename({'Date/Time':'Date'}, axis=1, inplace=True)\n",
    "\n",
    "uber_aug['Date'] = pd.to_datetime(uber_aug['Date'])\n",
    "\n",
    "uber_aug['Month'] = uber_aug['Date'].dt.month_name().str[:3] \n",
    "\n",
    "uber_aug['Day'] = uber_aug['Date'].dt.day_name().str[:3]\n",
    "\n",
    "uber_aug['Hour'] = uber_aug['Date'].dt.hour\n",
    "\n",
    "uber_aug.head()"
   ]
  },
  {
   "cell_type": "code",
   "execution_count": 69,
   "id": "612c59e1-438c-4770-b3a7-a9c4b1ea0aa8",
   "metadata": {},
   "outputs": [],
   "source": [
    "# Create a new column to store this new binned column with 15 minute intervals\n",
    "uber_aug['BinnedHour'] = uber_aug['Date'].dt.floor('15min')"
   ]
  },
  {
   "cell_type": "code",
   "execution_count": 70,
   "id": "1745cbcd-d38d-4edc-93cb-fea62cc635b8",
   "metadata": {},
   "outputs": [
    {
     "data": {
      "text/plain": [
       "0        2014-08-01 00:00:00\n",
       "1        2014-08-01 00:00:00\n",
       "2        2014-08-01 00:00:00\n",
       "3        2014-08-01 00:00:00\n",
       "4        2014-08-01 00:00:00\n",
       "                 ...        \n",
       "829270   2014-08-31 23:45:00\n",
       "829271   2014-08-31 23:45:00\n",
       "829272   2014-08-31 23:45:00\n",
       "829273   2014-08-31 23:45:00\n",
       "829274   2014-08-31 23:45:00\n",
       "Name: BinnedHour, Length: 829275, dtype: datetime64[ns]"
      ]
     },
     "execution_count": 70,
     "metadata": {},
     "output_type": "execute_result"
    }
   ],
   "source": [
    "# Print the new column\n",
    "uber_aug['BinnedHour']"
   ]
  },
  {
   "cell_type": "code",
   "execution_count": 71,
   "id": "d90ce9a5-29ef-4906-a5c0-238a3b758a34",
   "metadata": {},
   "outputs": [
    {
     "data": {
      "image/png": "[encoded data removed]",
      "text/plain": [
       "<Figure size 1080x360 with 1 Axes>"
      ]
     },
     "metadata": {
      "needs_background": "light"
     },
     "output_type": "display_data"
    }
   ],
   "source": [
    "# Plot total August Uber rides by 'Days'\n",
    "plt.figure(figsize=(15,5))\n",
    "\n",
    "uber_aug['BinnedHour'].dt.day.value_counts().sort_index().plot(kind='bar',color='red')\n",
    "\n",
    "for item in plt.gca().get_xticklabels():\n",
    "    \n",
    "    item.set_rotation(45)\n",
    "\n",
    "    plt.title('Uber Rides through August 2014')\n",
    "\n",
    "    plt.xlabel('Days')\n",
    "\n",
    "    plt.ylabel('Rides')"
   ]
  },
  {
   "cell_type": "code",
   "execution_count": 72,
   "id": "16b9afef-8451-4785-85ef-15bbbc9af392",
   "metadata": {},
   "outputs": [
    {
     "data": {
      "text/html": [
       "<div>\n",
       "<style scoped>\n",
       "    .dataframe tbody tr th:only-of-type {\n",
       "        vertical-align: middle;\n",
       "    }\n",
       "\n",
       "    .dataframe tbody tr th {\n",
       "        vertical-align: top;\n",
       "    }\n",
       "\n",
       "    .dataframe thead th {\n",
       "        text-align: right;\n",
       "    }\n",
       "</style>\n",
       "<table border=\"1\" class=\"dataframe\">\n",
       "  <thead>\n",
       "    <tr style=\"text-align: right;\">\n",
       "      <th></th>\n",
       "      <th>Date/Time</th>\n",
       "      <th>Lat</th>\n",
       "      <th>Lon</th>\n",
       "      <th>Base</th>\n",
       "    </tr>\n",
       "  </thead>\n",
       "  <tbody>\n",
       "    <tr>\n",
       "      <th>0</th>\n",
       "      <td>9/1/2014 0:01:00</td>\n",
       "      <td>40.2201</td>\n",
       "      <td>-74.0021</td>\n",
       "      <td>B02512</td>\n",
       "    </tr>\n",
       "    <tr>\n",
       "      <th>1</th>\n",
       "      <td>9/1/2014 0:01:00</td>\n",
       "      <td>40.7500</td>\n",
       "      <td>-74.0027</td>\n",
       "      <td>B02512</td>\n",
       "    </tr>\n",
       "    <tr>\n",
       "      <th>2</th>\n",
       "      <td>9/1/2014 0:03:00</td>\n",
       "      <td>40.7559</td>\n",
       "      <td>-73.9864</td>\n",
       "      <td>B02512</td>\n",
       "    </tr>\n",
       "    <tr>\n",
       "      <th>3</th>\n",
       "      <td>9/1/2014 0:06:00</td>\n",
       "      <td>40.7450</td>\n",
       "      <td>-73.9889</td>\n",
       "      <td>B02512</td>\n",
       "    </tr>\n",
       "    <tr>\n",
       "      <th>4</th>\n",
       "      <td>9/1/2014 0:11:00</td>\n",
       "      <td>40.8145</td>\n",
       "      <td>-73.9444</td>\n",
       "      <td>B02512</td>\n",
       "    </tr>\n",
       "  </tbody>\n",
       "</table>\n",
       "</div>"
      ],
      "text/plain": [
       "          Date/Time      Lat      Lon    Base\n",
       "0  9/1/2014 0:01:00  40.2201 -74.0021  B02512\n",
       "1  9/1/2014 0:01:00  40.7500 -74.0027  B02512\n",
       "2  9/1/2014 0:03:00  40.7559 -73.9864  B02512\n",
       "3  9/1/2014 0:06:00  40.7450 -73.9889  B02512\n",
       "4  9/1/2014 0:11:00  40.8145 -73.9444  B02512"
      ]
     },
     "execution_count": 72,
     "metadata": {},
     "output_type": "execute_result"
    }
   ],
   "source": [
    "# Print September .head()\n",
    "uber_sep.head()"
   ]
  },
  {
   "cell_type": "code",
   "execution_count": 73,
   "id": "56d65fa0-06d8-465a-ac3a-a60bf9eb1151",
   "metadata": {},
   "outputs": [
    {
     "name": "stdout",
     "output_type": "stream",
     "text": [
      "<class 'pandas.core.frame.DataFrame'>\n",
      "RangeIndex: 1028136 entries, 0 to 1028135\n",
      "Data columns (total 4 columns):\n",
      " #   Column     Non-Null Count    Dtype  \n",
      "---  ------     --------------    -----  \n",
      " 0   Date/Time  1028136 non-null  object \n",
      " 1   Lat        1028136 non-null  float64\n",
      " 2   Lon        1028136 non-null  float64\n",
      " 3   Base       1028136 non-null  object \n",
      "dtypes: float64(2), object(2)\n",
      "memory usage: 31.4+ MB\n"
     ]
    }
   ],
   "source": [
    "# Check to see if there are any 'null' values and check data types\n",
    "uber_sep.info()"
   ]
  },
  {
   "cell_type": "code",
   "execution_count": 74,
   "id": "e987a2f4-6815-424b-af2a-baad976c693c",
   "metadata": {},
   "outputs": [
    {
     "data": {
      "text/html": [
       "<div>\n",
       "<style scoped>\n",
       "    .dataframe tbody tr th:only-of-type {\n",
       "        vertical-align: middle;\n",
       "    }\n",
       "\n",
       "    .dataframe tbody tr th {\n",
       "        vertical-align: top;\n",
       "    }\n",
       "\n",
       "    .dataframe thead th {\n",
       "        text-align: right;\n",
       "    }\n",
       "</style>\n",
       "<table border=\"1\" class=\"dataframe\">\n",
       "  <thead>\n",
       "    <tr style=\"text-align: right;\">\n",
       "      <th></th>\n",
       "      <th>Date</th>\n",
       "      <th>Lat</th>\n",
       "      <th>Lon</th>\n",
       "      <th>Base</th>\n",
       "      <th>Month</th>\n",
       "      <th>Day</th>\n",
       "      <th>Hour</th>\n",
       "    </tr>\n",
       "  </thead>\n",
       "  <tbody>\n",
       "    <tr>\n",
       "      <th>0</th>\n",
       "      <td>2014-09-01 00:01:00</td>\n",
       "      <td>40.2201</td>\n",
       "      <td>-74.0021</td>\n",
       "      <td>B02512</td>\n",
       "      <td>Sep</td>\n",
       "      <td>Mon</td>\n",
       "      <td>0</td>\n",
       "    </tr>\n",
       "    <tr>\n",
       "      <th>1</th>\n",
       "      <td>2014-09-01 00:01:00</td>\n",
       "      <td>40.7500</td>\n",
       "      <td>-74.0027</td>\n",
       "      <td>B02512</td>\n",
       "      <td>Sep</td>\n",
       "      <td>Mon</td>\n",
       "      <td>0</td>\n",
       "    </tr>\n",
       "    <tr>\n",
       "      <th>2</th>\n",
       "      <td>2014-09-01 00:03:00</td>\n",
       "      <td>40.7559</td>\n",
       "      <td>-73.9864</td>\n",
       "      <td>B02512</td>\n",
       "      <td>Sep</td>\n",
       "      <td>Mon</td>\n",
       "      <td>0</td>\n",
       "    </tr>\n",
       "    <tr>\n",
       "      <th>3</th>\n",
       "      <td>2014-09-01 00:06:00</td>\n",
       "      <td>40.7450</td>\n",
       "      <td>-73.9889</td>\n",
       "      <td>B02512</td>\n",
       "      <td>Sep</td>\n",
       "      <td>Mon</td>\n",
       "      <td>0</td>\n",
       "    </tr>\n",
       "    <tr>\n",
       "      <th>4</th>\n",
       "      <td>2014-09-01 00:11:00</td>\n",
       "      <td>40.8145</td>\n",
       "      <td>-73.9444</td>\n",
       "      <td>B02512</td>\n",
       "      <td>Sep</td>\n",
       "      <td>Mon</td>\n",
       "      <td>0</td>\n",
       "    </tr>\n",
       "  </tbody>\n",
       "</table>\n",
       "</div>"
      ],
      "text/plain": [
       "                 Date      Lat      Lon    Base Month  Day  Hour\n",
       "0 2014-09-01 00:01:00  40.2201 -74.0021  B02512   Sep  Mon     0\n",
       "1 2014-09-01 00:01:00  40.7500 -74.0027  B02512   Sep  Mon     0\n",
       "2 2014-09-01 00:03:00  40.7559 -73.9864  B02512   Sep  Mon     0\n",
       "3 2014-09-01 00:06:00  40.7450 -73.9889  B02512   Sep  Mon     0\n",
       "4 2014-09-01 00:11:00  40.8145 -73.9444  B02512   Sep  Mon     0"
      ]
     },
     "execution_count": 74,
     "metadata": {},
     "output_type": "execute_result"
    }
   ],
   "source": [
    "# Renaming the date column\n",
    "uber_sep.rename({'Date/Time':'Date'}, axis=1, inplace=True)\n",
    "\n",
    "uber_sep['Date'] = pd.to_datetime(uber_sep['Date'])\n",
    "\n",
    "uber_sep['Month'] = uber_sep['Date'].dt.month_name().str[:3] \n",
    "\n",
    "uber_sep['Day'] = uber_sep['Date'].dt.day_name().str[:3]\n",
    "\n",
    "uber_sep['Hour'] = uber_sep['Date'].dt.hour\n",
    "\n",
    "uber_sep.head()"
   ]
  },
  {
   "cell_type": "code",
   "execution_count": 75,
   "id": "9f723ae8-8860-441a-b0ac-6e44cbcc5e3a",
   "metadata": {},
   "outputs": [],
   "source": [
    "# Create a new column to store this new binned column with 15 minute intervals\n",
    "uber_sep['BinnedHour'] = uber_sep['Date'].dt.floor('15min')"
   ]
  },
  {
   "cell_type": "code",
   "execution_count": 76,
   "id": "702232a4-4e3d-4d44-9141-b2a85845c78a",
   "metadata": {},
   "outputs": [
    {
     "data": {
      "text/plain": [
       "0         2014-09-01 00:00:00\n",
       "1         2014-09-01 00:00:00\n",
       "2         2014-09-01 00:00:00\n",
       "3         2014-09-01 00:00:00\n",
       "4         2014-09-01 00:00:00\n",
       "                  ...        \n",
       "1028131   2014-09-30 22:45:00\n",
       "1028132   2014-09-30 22:45:00\n",
       "1028133   2014-09-30 22:45:00\n",
       "1028134   2014-09-30 22:45:00\n",
       "1028135   2014-09-30 22:45:00\n",
       "Name: BinnedHour, Length: 1028136, dtype: datetime64[ns]"
      ]
     },
     "execution_count": 76,
     "metadata": {},
     "output_type": "execute_result"
    }
   ],
   "source": [
    "# Print the new column\n",
    "uber_sep['BinnedHour']"
   ]
  },
  {
   "cell_type": "code",
   "execution_count": 77,
   "id": "24e0877a-af98-41e2-8215-cbbecde48da6",
   "metadata": {},
   "outputs": [
    {
     "data": {
      "image/png": "[encoded data removed]",
      "text/plain": [
       "<Figure size 1080x360 with 1 Axes>"
      ]
     },
     "metadata": {
      "needs_background": "light"
     },
     "output_type": "display_data"
    }
   ],
   "source": [
    "# Plot total September Uber rides by 'Days'\n",
    "plt.figure(figsize=(15,5))\n",
    "\n",
    "uber_sep['BinnedHour'].dt.day.value_counts().sort_index().plot(kind='bar',color='grey')\n",
    "\n",
    "for item in plt.gca().get_xticklabels():\n",
    "    \n",
    "    item.set_rotation(45)\n",
    "\n",
    "    plt.title('Uber Rides through September 2014')\n",
    "\n",
    "    plt.xlabel('Days')\n",
    "\n",
    "    plt.ylabel('Rides')"
   ]
  },
  {
   "cell_type": "code",
   "execution_count": 82,
   "id": "73b2775e-6f6c-40f6-be7a-31e711fcd0a8",
   "metadata": {},
   "outputs": [],
   "source": [
    "# Read in weather csvs\n",
    "weather_apr = pd.read_csv(\"Resources/weather_apr14.csv\")\n",
    "weather_may = pd.read_csv(\"Resources/weather_may14.csv\")\n",
    "weather_jun = pd.read_csv(\"Resources/weather_june14.csv\")\n",
    "weather_jul = pd.read_csv(\"Resources/weather_july14.csv\")\n",
    "weather_aug = pd.read_csv(\"Resources/weather_aug14.csv\")\n",
    "weather_sep = pd.read_csv(\"Resources/weather_sep14.csv\")"
   ]
  },
  {
   "cell_type": "code",
   "execution_count": null,
   "id": "430a74d3-9664-4077-ba01-35ca6fb51ea6",
   "metadata": {},
   "outputs": [],
   "source": []
  }
 ],
 "metadata": {
  "kernelspec": {
   "display_name": "Python 3 (ipykernel)",
   "language": "python",
   "name": "python3"
  },
  "language_info": {
   "codemirror_mode": {
    "name": "ipython",
    "version": 3
   },
   "file_extension": ".py",
   "mimetype": "text/x-python",
   "name": "python",
   "nbconvert_exporter": "python",
   "pygments_lexer": "ipython3",
   "version": "3.9.7"
  }
 },
 "nbformat": 4,
 "nbformat_minor": 5
}
