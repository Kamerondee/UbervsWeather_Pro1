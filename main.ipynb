{
 "cells": [
  {
   "cell_type": "code",
   "execution_count": 1,
   "id": "c330f773-a776-4112-b636-12f8b9cb9cd9",
   "metadata": {},
   "outputs": [],
   "source": [
    "# Dependencies and Setup\n",
    "import os\n",
    "import pandas as pd\n",
    "import matplotlib.pyplot as plt\n",
    "import scipy.stats as st\n",
    "import datetime\n",
    "\n",
    "# Read in your csv files\n",
    "# Datasets from https://www.kaggle.com/datasets/fivethirtyeight/uber-pickups-in-new-york-city?select=uber-raw-data-janjune-15.csv\n",
    "uber_apr = pd.read_csv(\"Resources/uber-raw-data-apr14.csv\")\n",
    "uber_aug = pd.read_csv(\"Resources/uber-raw-data-aug14.csv\")\n",
    "uber_jul = pd.read_csv(\"Resources/uber-raw-data-jul14.csv\")\n",
    "uber_jun = pd.read_csv(\"Resources/uber-raw-data-jun14.csv\")\n",
    "uber_may = pd.read_csv(\"Resources/uber-raw-data-may14.csv\")\n",
    "uber_sep = pd.read_csv(\"Resources/uber-raw-data-sep14.csv\")"
   ]
  },
  {
   "cell_type": "code",
   "execution_count": 2,
   "id": "359ed41b-f391-4775-ad7f-ee6fa5a684f9",
   "metadata": {},
   "outputs": [
    {
     "data": {
      "text/html": [
       "<div>\n",
       "<style scoped>\n",
       "    .dataframe tbody tr th:only-of-type {\n",
       "        vertical-align: middle;\n",
       "    }\n",
       "\n",
       "    .dataframe tbody tr th {\n",
       "        vertical-align: top;\n",
       "    }\n",
       "\n",
       "    .dataframe thead th {\n",
       "        text-align: right;\n",
       "    }\n",
       "</style>\n",
       "<table border=\"1\" class=\"dataframe\">\n",
       "  <thead>\n",
       "    <tr style=\"text-align: right;\">\n",
       "      <th></th>\n",
       "      <th>Date/Time</th>\n",
       "      <th>Lat</th>\n",
       "      <th>Lon</th>\n",
       "      <th>Base</th>\n",
       "    </tr>\n",
       "  </thead>\n",
       "  <tbody>\n",
       "    <tr>\n",
       "      <th>0</th>\n",
       "      <td>4/1/2014 0:11:00</td>\n",
       "      <td>40.7690</td>\n",
       "      <td>-73.9549</td>\n",
       "      <td>B02512</td>\n",
       "    </tr>\n",
       "    <tr>\n",
       "      <th>1</th>\n",
       "      <td>4/1/2014 0:17:00</td>\n",
       "      <td>40.7267</td>\n",
       "      <td>-74.0345</td>\n",
       "      <td>B02512</td>\n",
       "    </tr>\n",
       "    <tr>\n",
       "      <th>2</th>\n",
       "      <td>4/1/2014 0:21:00</td>\n",
       "      <td>40.7316</td>\n",
       "      <td>-73.9873</td>\n",
       "      <td>B02512</td>\n",
       "    </tr>\n",
       "    <tr>\n",
       "      <th>3</th>\n",
       "      <td>4/1/2014 0:28:00</td>\n",
       "      <td>40.7588</td>\n",
       "      <td>-73.9776</td>\n",
       "      <td>B02512</td>\n",
       "    </tr>\n",
       "    <tr>\n",
       "      <th>4</th>\n",
       "      <td>4/1/2014 0:33:00</td>\n",
       "      <td>40.7594</td>\n",
       "      <td>-73.9722</td>\n",
       "      <td>B02512</td>\n",
       "    </tr>\n",
       "  </tbody>\n",
       "</table>\n",
       "</div>"
      ],
      "text/plain": [
       "          Date/Time      Lat      Lon    Base\n",
       "0  4/1/2014 0:11:00  40.7690 -73.9549  B02512\n",
       "1  4/1/2014 0:17:00  40.7267 -74.0345  B02512\n",
       "2  4/1/2014 0:21:00  40.7316 -73.9873  B02512\n",
       "3  4/1/2014 0:28:00  40.7588 -73.9776  B02512\n",
       "4  4/1/2014 0:33:00  40.7594 -73.9722  B02512"
      ]
     },
     "execution_count": 2,
     "metadata": {},
     "output_type": "execute_result"
    }
   ],
   "source": [
    "# Print .head()\n",
    "uber_apr.head()"
   ]
  },
  {
   "cell_type": "code",
   "execution_count": 3,
   "id": "85351da0-f5f2-4d98-957e-ca315d029346",
   "metadata": {},
   "outputs": [
    {
     "name": "stdout",
     "output_type": "stream",
     "text": [
      "<class 'pandas.core.frame.DataFrame'>\n",
      "RangeIndex: 564516 entries, 0 to 564515\n",
      "Data columns (total 4 columns):\n",
      " #   Column     Non-Null Count   Dtype  \n",
      "---  ------     --------------   -----  \n",
      " 0   Date/Time  564516 non-null  object \n",
      " 1   Lat        564516 non-null  float64\n",
      " 2   Lon        564516 non-null  float64\n",
      " 3   Base       564516 non-null  object \n",
      "dtypes: float64(2), object(2)\n",
      "memory usage: 17.2+ MB\n"
     ]
    }
   ],
   "source": [
    "# Check to see if there are any 'null' values and check data types\n",
    "uber_apr.info()"
   ]
  },
  {
   "cell_type": "code",
   "execution_count": 4,
   "id": "01569f2e-bae6-4a3a-a585-d96b83c84623",
   "metadata": {},
   "outputs": [
    {
     "data": {
      "text/html": [
       "<div>\n",
       "<style scoped>\n",
       "    .dataframe tbody tr th:only-of-type {\n",
       "        vertical-align: middle;\n",
       "    }\n",
       "\n",
       "    .dataframe tbody tr th {\n",
       "        vertical-align: top;\n",
       "    }\n",
       "\n",
       "    .dataframe thead th {\n",
       "        text-align: right;\n",
       "    }\n",
       "</style>\n",
       "<table border=\"1\" class=\"dataframe\">\n",
       "  <thead>\n",
       "    <tr style=\"text-align: right;\">\n",
       "      <th></th>\n",
       "      <th>Date</th>\n",
       "      <th>Lat</th>\n",
       "      <th>Lon</th>\n",
       "      <th>Base</th>\n",
       "      <th>Month</th>\n",
       "      <th>Day</th>\n",
       "      <th>Hour</th>\n",
       "    </tr>\n",
       "  </thead>\n",
       "  <tbody>\n",
       "    <tr>\n",
       "      <th>0</th>\n",
       "      <td>2014-04-01 00:11:00</td>\n",
       "      <td>40.7690</td>\n",
       "      <td>-73.9549</td>\n",
       "      <td>B02512</td>\n",
       "      <td>Apr</td>\n",
       "      <td>Tue</td>\n",
       "      <td>0</td>\n",
       "    </tr>\n",
       "    <tr>\n",
       "      <th>1</th>\n",
       "      <td>2014-04-01 00:17:00</td>\n",
       "      <td>40.7267</td>\n",
       "      <td>-74.0345</td>\n",
       "      <td>B02512</td>\n",
       "      <td>Apr</td>\n",
       "      <td>Tue</td>\n",
       "      <td>0</td>\n",
       "    </tr>\n",
       "    <tr>\n",
       "      <th>2</th>\n",
       "      <td>2014-04-01 00:21:00</td>\n",
       "      <td>40.7316</td>\n",
       "      <td>-73.9873</td>\n",
       "      <td>B02512</td>\n",
       "      <td>Apr</td>\n",
       "      <td>Tue</td>\n",
       "      <td>0</td>\n",
       "    </tr>\n",
       "    <tr>\n",
       "      <th>3</th>\n",
       "      <td>2014-04-01 00:28:00</td>\n",
       "      <td>40.7588</td>\n",
       "      <td>-73.9776</td>\n",
       "      <td>B02512</td>\n",
       "      <td>Apr</td>\n",
       "      <td>Tue</td>\n",
       "      <td>0</td>\n",
       "    </tr>\n",
       "    <tr>\n",
       "      <th>4</th>\n",
       "      <td>2014-04-01 00:33:00</td>\n",
       "      <td>40.7594</td>\n",
       "      <td>-73.9722</td>\n",
       "      <td>B02512</td>\n",
       "      <td>Apr</td>\n",
       "      <td>Tue</td>\n",
       "      <td>0</td>\n",
       "    </tr>\n",
       "  </tbody>\n",
       "</table>\n",
       "</div>"
      ],
      "text/plain": [
       "                 Date      Lat      Lon    Base Month  Day  Hour\n",
       "0 2014-04-01 00:11:00  40.7690 -73.9549  B02512   Apr  Tue     0\n",
       "1 2014-04-01 00:17:00  40.7267 -74.0345  B02512   Apr  Tue     0\n",
       "2 2014-04-01 00:21:00  40.7316 -73.9873  B02512   Apr  Tue     0\n",
       "3 2014-04-01 00:28:00  40.7588 -73.9776  B02512   Apr  Tue     0\n",
       "4 2014-04-01 00:33:00  40.7594 -73.9722  B02512   Apr  Tue     0"
      ]
     },
     "execution_count": 4,
     "metadata": {},
     "output_type": "execute_result"
    }
   ],
   "source": [
    "# Renaming the date column\n",
    "uber_apr.rename({'Date/Time':'Date'}, axis=1, inplace=True)\n",
    "\n",
    "uber_apr['Date'] = pd.to_datetime(uber_apr['Date'])\n",
    "\n",
    "# Create new columns to hold different time variables\n",
    "uber_apr['Month'] = uber_apr['Date'].dt.month_name().str[:3] \n",
    "\n",
    "uber_apr['Day'] = uber_apr['Date'].dt.day_name().str[:3]\n",
    "\n",
    "uber_apr['Hour'] = uber_apr['Date'].dt.hour\n",
    "\n",
    "uber_apr.head()"
   ]
  },
  {
   "cell_type": "code",
   "execution_count": 5,
   "id": "dbe8aff3-06de-4a08-aec4-be3dd4418550",
   "metadata": {},
   "outputs": [],
   "source": [
    "# Create a new column to store this new binned column with 15 minute intervals\n",
    "uber_apr['BinnedHour'] = uber_apr['Date'].dt.floor('15min')"
   ]
  },
  {
   "cell_type": "code",
   "execution_count": 6,
   "id": "dfdbb757-6391-4721-9926-3250efcf5f4b",
   "metadata": {
    "tags": []
   },
   "outputs": [
    {
     "data": {
      "text/plain": [
       "0        2014-04-01 00:00:00\n",
       "1        2014-04-01 00:15:00\n",
       "2        2014-04-01 00:15:00\n",
       "3        2014-04-01 00:15:00\n",
       "4        2014-04-01 00:30:00\n",
       "                 ...        \n",
       "564511   2014-04-30 23:15:00\n",
       "564512   2014-04-30 23:15:00\n",
       "564513   2014-04-30 23:30:00\n",
       "564514   2014-04-30 23:30:00\n",
       "564515   2014-04-30 23:45:00\n",
       "Name: BinnedHour, Length: 564516, dtype: datetime64[ns]"
      ]
     },
     "execution_count": 6,
     "metadata": {},
     "output_type": "execute_result"
    }
   ],
   "source": [
    "# Print the new column\n",
    "uber_apr['BinnedHour']"
   ]
  },
  {
   "cell_type": "code",
   "execution_count": 7,
   "id": "7e1c2db9-f2c7-48fd-90dd-7e7bc0dd82fb",
   "metadata": {},
   "outputs": [
    {
     "data": {
      "image/png": "[encoded data removed]",
      "text/plain": [
       "<Figure size 1080x360 with 1 Axes>"
      ]
     },
     "metadata": {
      "needs_background": "light"
     },
     "output_type": "display_data"
    }
   ],
   "source": [
    "# Plot total April Uber rides by 'Days'\n",
    "plt.figure(figsize=(15,5))\n",
    "\n",
    "uber_apr['BinnedHour'].dt.day.value_counts().sort_index().plot(kind='bar',color='blue')\n",
    "\n",
    "for item in plt.gca().get_xticklabels():\n",
    "    \n",
    "    item.set_rotation(45)\n",
    "\n",
    "    plt.title('Uber Rides through April 2014')\n",
    "\n",
    "    plt.xlabel('Days')\n",
    "\n",
    "    plt.ylabel('Rides')"
   ]
  },
  {
   "cell_type": "code",
   "execution_count": 8,
   "id": "02b6b3de-ca38-44b6-a15d-f88447c9f35d",
   "metadata": {},
   "outputs": [
    {
     "data": {
      "text/html": [
       "<div>\n",
       "<style scoped>\n",
       "    .dataframe tbody tr th:only-of-type {\n",
       "        vertical-align: middle;\n",
       "    }\n",
       "\n",
       "    .dataframe tbody tr th {\n",
       "        vertical-align: top;\n",
       "    }\n",
       "\n",
       "    .dataframe thead th {\n",
       "        text-align: right;\n",
       "    }\n",
       "</style>\n",
       "<table border=\"1\" class=\"dataframe\">\n",
       "  <thead>\n",
       "    <tr style=\"text-align: right;\">\n",
       "      <th></th>\n",
       "      <th>Date/Time</th>\n",
       "      <th>Lat</th>\n",
       "      <th>Lon</th>\n",
       "      <th>Base</th>\n",
       "    </tr>\n",
       "  </thead>\n",
       "  <tbody>\n",
       "    <tr>\n",
       "      <th>0</th>\n",
       "      <td>5/1/2014 0:02:00</td>\n",
       "      <td>40.7521</td>\n",
       "      <td>-73.9914</td>\n",
       "      <td>B02512</td>\n",
       "    </tr>\n",
       "    <tr>\n",
       "      <th>1</th>\n",
       "      <td>5/1/2014 0:06:00</td>\n",
       "      <td>40.6965</td>\n",
       "      <td>-73.9715</td>\n",
       "      <td>B02512</td>\n",
       "    </tr>\n",
       "    <tr>\n",
       "      <th>2</th>\n",
       "      <td>5/1/2014 0:15:00</td>\n",
       "      <td>40.7464</td>\n",
       "      <td>-73.9838</td>\n",
       "      <td>B02512</td>\n",
       "    </tr>\n",
       "    <tr>\n",
       "      <th>3</th>\n",
       "      <td>5/1/2014 0:17:00</td>\n",
       "      <td>40.7463</td>\n",
       "      <td>-74.0011</td>\n",
       "      <td>B02512</td>\n",
       "    </tr>\n",
       "    <tr>\n",
       "      <th>4</th>\n",
       "      <td>5/1/2014 0:17:00</td>\n",
       "      <td>40.7594</td>\n",
       "      <td>-73.9734</td>\n",
       "      <td>B02512</td>\n",
       "    </tr>\n",
       "  </tbody>\n",
       "</table>\n",
       "</div>"
      ],
      "text/plain": [
       "          Date/Time      Lat      Lon    Base\n",
       "0  5/1/2014 0:02:00  40.7521 -73.9914  B02512\n",
       "1  5/1/2014 0:06:00  40.6965 -73.9715  B02512\n",
       "2  5/1/2014 0:15:00  40.7464 -73.9838  B02512\n",
       "3  5/1/2014 0:17:00  40.7463 -74.0011  B02512\n",
       "4  5/1/2014 0:17:00  40.7594 -73.9734  B02512"
      ]
     },
     "execution_count": 8,
     "metadata": {},
     "output_type": "execute_result"
    }
   ],
   "source": [
    "# Print May .head()\n",
    "uber_may.head()"
   ]
  },
  {
   "cell_type": "code",
   "execution_count": 9,
   "id": "350e98cc-9853-44c8-a8d9-ef772078aaa2",
   "metadata": {},
   "outputs": [
    {
     "name": "stdout",
     "output_type": "stream",
     "text": [
      "<class 'pandas.core.frame.DataFrame'>\n",
      "RangeIndex: 652435 entries, 0 to 652434\n",
      "Data columns (total 4 columns):\n",
      " #   Column     Non-Null Count   Dtype  \n",
      "---  ------     --------------   -----  \n",
      " 0   Date/Time  652435 non-null  object \n",
      " 1   Lat        652435 non-null  float64\n",
      " 2   Lon        652435 non-null  float64\n",
      " 3   Base       652435 non-null  object \n",
      "dtypes: float64(2), object(2)\n",
      "memory usage: 19.9+ MB\n"
     ]
    }
   ],
   "source": [
    "# Check to see if there are any 'null' values and check data types\n",
    "uber_may.info()"
   ]
  },
  {
   "cell_type": "code",
   "execution_count": 10,
   "id": "1bef3b14-99e1-4e96-8b68-00cc9098de02",
   "metadata": {},
   "outputs": [
    {
     "data": {
      "text/html": [
       "<div>\n",
       "<style scoped>\n",
       "    .dataframe tbody tr th:only-of-type {\n",
       "        vertical-align: middle;\n",
       "    }\n",
       "\n",
       "    .dataframe tbody tr th {\n",
       "        vertical-align: top;\n",
       "    }\n",
       "\n",
       "    .dataframe thead th {\n",
       "        text-align: right;\n",
       "    }\n",
       "</style>\n",
       "<table border=\"1\" class=\"dataframe\">\n",
       "  <thead>\n",
       "    <tr style=\"text-align: right;\">\n",
       "      <th></th>\n",
       "      <th>Date</th>\n",
       "      <th>Lat</th>\n",
       "      <th>Lon</th>\n",
       "      <th>Base</th>\n",
       "      <th>Month</th>\n",
       "      <th>Day</th>\n",
       "      <th>Hour</th>\n",
       "    </tr>\n",
       "  </thead>\n",
       "  <tbody>\n",
       "    <tr>\n",
       "      <th>0</th>\n",
       "      <td>2014-05-01 00:02:00</td>\n",
       "      <td>40.7521</td>\n",
       "      <td>-73.9914</td>\n",
       "      <td>B02512</td>\n",
       "      <td>May</td>\n",
       "      <td>Thu</td>\n",
       "      <td>0</td>\n",
       "    </tr>\n",
       "    <tr>\n",
       "      <th>1</th>\n",
       "      <td>2014-05-01 00:06:00</td>\n",
       "      <td>40.6965</td>\n",
       "      <td>-73.9715</td>\n",
       "      <td>B02512</td>\n",
       "      <td>May</td>\n",
       "      <td>Thu</td>\n",
       "      <td>0</td>\n",
       "    </tr>\n",
       "    <tr>\n",
       "      <th>2</th>\n",
       "      <td>2014-05-01 00:15:00</td>\n",
       "      <td>40.7464</td>\n",
       "      <td>-73.9838</td>\n",
       "      <td>B02512</td>\n",
       "      <td>May</td>\n",
       "      <td>Thu</td>\n",
       "      <td>0</td>\n",
       "    </tr>\n",
       "    <tr>\n",
       "      <th>3</th>\n",
       "      <td>2014-05-01 00:17:00</td>\n",
       "      <td>40.7463</td>\n",
       "      <td>-74.0011</td>\n",
       "      <td>B02512</td>\n",
       "      <td>May</td>\n",
       "      <td>Thu</td>\n",
       "      <td>0</td>\n",
       "    </tr>\n",
       "    <tr>\n",
       "      <th>4</th>\n",
       "      <td>2014-05-01 00:17:00</td>\n",
       "      <td>40.7594</td>\n",
       "      <td>-73.9734</td>\n",
       "      <td>B02512</td>\n",
       "      <td>May</td>\n",
       "      <td>Thu</td>\n",
       "      <td>0</td>\n",
       "    </tr>\n",
       "  </tbody>\n",
       "</table>\n",
       "</div>"
      ],
      "text/plain": [
       "                 Date      Lat      Lon    Base Month  Day  Hour\n",
       "0 2014-05-01 00:02:00  40.7521 -73.9914  B02512   May  Thu     0\n",
       "1 2014-05-01 00:06:00  40.6965 -73.9715  B02512   May  Thu     0\n",
       "2 2014-05-01 00:15:00  40.7464 -73.9838  B02512   May  Thu     0\n",
       "3 2014-05-01 00:17:00  40.7463 -74.0011  B02512   May  Thu     0\n",
       "4 2014-05-01 00:17:00  40.7594 -73.9734  B02512   May  Thu     0"
      ]
     },
     "execution_count": 10,
     "metadata": {},
     "output_type": "execute_result"
    }
   ],
   "source": [
    "# Renaming the date column\n",
    "uber_may.rename({'Date/Time':'Date'}, axis=1, inplace=True)\n",
    "\n",
    "uber_may['Date'] = pd.to_datetime(uber_may['Date'])\n",
    "\n",
    "# Create new columns to hold different time variables\n",
    "uber_may['Month'] = uber_may['Date'].dt.month_name().str[:3] \n",
    "\n",
    "uber_may['Day'] = uber_may['Date'].dt.day_name().str[:3]\n",
    "\n",
    "uber_may['Hour'] = uber_may['Date'].dt.hour\n",
    "\n",
    "uber_may.head()"
   ]
  },
  {
   "cell_type": "code",
   "execution_count": 11,
   "id": "bc29475b-661b-4f3f-8ca8-cd0a57ea2ce1",
   "metadata": {},
   "outputs": [],
   "source": [
    "# Create a new column to store this new binned column with 15 minute intervals\n",
    "uber_may['BinnedHour'] = uber_may['Date'].dt.floor('15min')"
   ]
  },
  {
   "cell_type": "code",
   "execution_count": 12,
   "id": "17ecad71-3e71-4bbb-ac91-23505fec6e6b",
   "metadata": {},
   "outputs": [
    {
     "data": {
      "text/plain": [
       "0        2014-05-01 00:00:00\n",
       "1        2014-05-01 00:00:00\n",
       "2        2014-05-01 00:15:00\n",
       "3        2014-05-01 00:15:00\n",
       "4        2014-05-01 00:15:00\n",
       "                 ...        \n",
       "652430   2014-05-31 23:45:00\n",
       "652431   2014-05-31 23:45:00\n",
       "652432   2014-05-31 23:45:00\n",
       "652433   2014-05-31 23:45:00\n",
       "652434   2014-05-31 23:45:00\n",
       "Name: BinnedHour, Length: 652435, dtype: datetime64[ns]"
      ]
     },
     "execution_count": 12,
     "metadata": {},
     "output_type": "execute_result"
    }
   ],
   "source": [
    "# Print the new column\n",
    "uber_may['BinnedHour']"
   ]
  },
  {
   "cell_type": "code",
   "execution_count": 13,
   "id": "b3593ead-fcd3-4bc8-b43b-f5f22ceeafb0",
   "metadata": {},
   "outputs": [
    {
     "data": {
      "image/png": "[encoded data removed]",
      "text/plain": [
       "<Figure size 1080x360 with 1 Axes>"
      ]
     },
     "metadata": {
      "needs_background": "light"
     },
     "output_type": "display_data"
    }
   ],
   "source": [
    "# Plot total May Uber rides by 'Days'\n",
    "plt.figure(figsize=(15,5))\n",
    "\n",
    "uber_may['BinnedHour'].dt.day.value_counts().sort_index().plot(kind='bar',color='purple')\n",
    "\n",
    "for item in plt.gca().get_xticklabels():\n",
    "    \n",
    "    item.set_rotation(45)\n",
    "\n",
    "    plt.title('Uber Rides through May 2014')\n",
    "\n",
    "    plt.xlabel('Days')\n",
    "\n",
    "    plt.ylabel('Rides')"
   ]
  },
  {
   "cell_type": "code",
   "execution_count": null,
   "id": "2052ad41-c3b5-408b-a0c1-a6ba085fa463",
   "metadata": {},
   "outputs": [],
   "source": []
  }
 ],
 "metadata": {
  "kernelspec": {
   "display_name": "Python 3 (ipykernel)",
   "language": "python",
   "name": "python3"
  },
  "language_info": {
   "codemirror_mode": {
    "name": "ipython",
    "version": 3
   },
   "file_extension": ".py",
   "mimetype": "text/x-python",
   "name": "python",
   "nbconvert_exporter": "python",
   "pygments_lexer": "ipython3",
   "version": "3.9.7"
  }
 },
 "nbformat": 4,
 "nbformat_minor": 5
}
