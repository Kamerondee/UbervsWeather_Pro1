{
 "cells": [
  {
   "cell_type": "code",
   "execution_count": 1,
   "id": "c330f773-a776-4112-b636-12f8b9cb9cd9",
   "metadata": {},
   "outputs": [],
   "source": [
    "# Dependencies and Setup\n",
    "import os\n",
    "import pandas as pd\n",
    "import matplotlib.pyplot as plt\n",
    "import scipy.stats as st\n",
    "\n",
    "# Read in your csv files\n",
    "weather_apr = pd.read_csv(\"Resources/uber-raw-data-apr14.csv\")\n",
    "weather_aug = pd.read_csv(\"Resources/uber-raw-data-aug14.csv\")\n",
    "weather_jul = pd.read_csv(\"Resources/uber-raw-data-jul14.csv\")\n",
    "weather_jun = pd.read_csv(\"Resources/uber-raw-data-jun14.csv\")\n",
    "weather_may = pd.read_csv(\"Resources/uber-raw-data-may14.csv\")\n",
    "weather_sep = pd.read_csv(\"Resources/uber-raw-data-sep14.csv\")"
   ]
  },
  {
   "cell_type": "code",
   "execution_count": null,
   "id": "97edbe61-2d5e-43c1-9c02-0c3ebe2cd3f5",
   "metadata": {},
   "outputs": [],
   "source": []
  }
 ],
 "metadata": {
  "kernelspec": {
   "display_name": "Python 3 (ipykernel)",
   "language": "python",
   "name": "python3"
  },
  "language_info": {
   "codemirror_mode": {
    "name": "ipython",
    "version": 3
   },
   "file_extension": ".py",
   "mimetype": "text/x-python",
   "name": "python",
   "nbconvert_exporter": "python",
   "pygments_lexer": "ipython3",
   "version": "3.9.7"
  }
 },
 "nbformat": 4,
 "nbformat_minor": 5
}
